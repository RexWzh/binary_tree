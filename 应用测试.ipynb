{
 "cells": [
  {
   "cell_type": "markdown",
   "metadata": {
    "heading_collapsed": true
   },
   "source": [
    "## 测试 "
   ]
  },
  {
   "cell_type": "code",
   "execution_count": null,
   "metadata": {
    "hidden": true
   },
   "outputs": [],
   "source": [
    "from btree import BTree\n",
    "from btree import *"
   ]
  },
  {
   "cell_type": "code",
   "execution_count": null,
   "metadata": {
    "code_folding": [
     0,
     3,
     11
    ],
    "hidden": true
   },
   "outputs": [],
   "source": [
    "# 旧树：通过一维列表初始化\n",
    "n = 8\n",
    "positions = [None for i in range(2**n)]\n",
    "pos = [1, \n",
    "       2,3, \n",
    "       4,5, \n",
    "       8,9,10,11, \n",
    "       16,17,22,23, \n",
    "       32,33,34,35,46,47,\n",
    "       68,69,70,71,\n",
    "       136,137,138,139,142,143]\n",
    "value = [0,\n",
    "        0,10,\n",
    "        0,0,\n",
    "        0,20,5,0,\n",
    "        0,0,7,0,\n",
    "        10,20,0,0,0,6,\n",
    "        0,0,5,0,\n",
    "        10,6,3,10,7,2]\n",
    "for p,v in zip(pos,value):\n",
    "    positions[p-1] = v\n",
    "\n",
    "# 旧树信息\n",
    "old_tree = BTree.list_to_tree(positions)\n",
    "old_nodes = {node.position for node in old_tree}\n",
    "old_leafs = {node.position for node in old_tree.leaves}\n",
    "print(old_tree)"
   ]
  },
  {
   "cell_type": "code",
   "execution_count": null,
   "metadata": {
    "hidden": true
   },
   "outputs": [],
   "source": [
    "# 叶节点转非叶\n",
    "leaves_seq = [0,0,3,0,3,0,4,0]\n",
    "nonleaves = leaves_to_nonleaves(leaves_seq)\n",
    "print(nonleaves)\n",
    "\n",
    "# 新树：非叶节点转树\n",
    "new_trees = nonleaves_to_trees(nonleaves)"
   ]
  },
  {
   "cell_type": "code",
   "execution_count": null,
   "metadata": {
    "hidden": true
   },
   "outputs": [],
   "source": [
    "min_cost = sum(value) # 最小开销\n",
    "optimals = [] # 最优解\n",
    "operates = [] # 最优操作\n",
    "\n",
    "for new_tree in new_trees:\n",
    "    # 新树信息\n",
    "    new_leafs = {node.position for node in new_tree.leaves}\n",
    "    new_nodes = {node.position for node in new_tree}\n",
    "    # 获取操作\n",
    "    com = old_nodes.difference(old_leafs).intersection(new_leafs)\n",
    "    sep = new_nodes.difference(new_leafs).intersection(old_leafs)\n",
    "    # 计算开销\n",
    "    com_leafs = {leaf for leaf in old_leafs if is_child(leaf,com)}\n",
    "    nodes = sep.union(com_leafs) # 被修改的节点\n",
    "    cost = sum(positions[i-1] for i in nodes)\n",
    "    if cost == min_cost and (sep,com) not in operates:\n",
    "        optimals.append(new_tree)\n",
    "        operates.append((sep,com))\n",
    "    elif cost < min_cost:\n",
    "        min_cost = cost\n",
    "        optimals= [new_tree]\n",
    "        operates = [(sep,com)]"
   ]
  },
  {
   "cell_type": "code",
   "execution_count": null,
   "metadata": {
    "hidden": true
   },
   "outputs": [],
   "source": [
    "# 打印结果\n",
    "print(\"开销\",min_cost)\n",
    "print(old_tree)\n",
    "for tree,operate in zip(optimals,operates):\n",
    "    sep,com = operate\n",
    "    print(\"拆分叶节点\",sep)\n",
    "    print(\"合并\",com)\n",
    "    print(tree)"
   ]
  },
  {
   "cell_type": "markdown",
   "metadata": {
    "heading_collapsed": true
   },
   "source": [
    "## 主函数"
   ]
  },
  {
   "cell_type": "code",
   "execution_count": null,
   "metadata": {
    "hidden": true
   },
   "outputs": [],
   "source": [
    "def binary_tree_cost(positions,nonleaves):\n",
    "    \"\"\"求二叉树变形的最优解\"\"\"\n",
    "    old_tree = BTree.list_to_tree(positions)\n",
    "    old_nodes = {node.position for node in old_tree}\n",
    "    old_leafs = {node.position for node in old_tree.leaves}\n",
    "    new_trees = nonleaves_to_trees(nonleaves)\n",
    "    min_cost = sum(positions[i-1] for i in old_leafs) # 最小开销\n",
    "    optimals = [] # 最优解\n",
    "    operates = [] # 最优操作\n",
    "    for new_tree in new_trees:\n",
    "        # 新树信息\n",
    "        new_leafs = {node.position for node in new_tree.leaves}\n",
    "        new_nodes = {node.position for node in new_tree}\n",
    "        # 获取操作\n",
    "        com = old_nodes.difference(old_leafs).intersection(new_leafs)\n",
    "        sep = new_nodes.difference(new_leafs).intersection(old_leafs)\n",
    "        # 计算开销\n",
    "        com_leafs = {leaf for leaf in old_leafs if is_child(leaf,com)}\n",
    "        nodes = sep.union(com_leafs) # 被修改的节点\n",
    "        cost = sum(positions[i-1] for i in nodes)\n",
    "        if cost == min_cost and (sep,com) not in operates:\n",
    "            optimals.append(new_tree)\n",
    "            operates.append((sep,com))\n",
    "        elif cost < min_cost:\n",
    "            min_cost = cost\n",
    "            optimals= [new_tree]\n",
    "            operates = [(sep,com)]\n",
    "    return operates,optimals,cost"
   ]
  },
  {
   "cell_type": "markdown",
   "metadata": {},
   "source": [
    "## 运行示例"
   ]
  },
  {
   "cell_type": "code",
   "execution_count": 1,
   "metadata": {
    "code_folding": [
     2,
     10
    ]
   },
   "outputs": [],
   "source": [
    "from btree import *\n",
    "# 定义旧树\n",
    "n = 8\n",
    "positions = [None for i in range(2**n)]\n",
    "pos = [1, \n",
    "       2,3, \n",
    "       4,5, \n",
    "       8,9,10,11, \n",
    "       16,17,22,23, \n",
    "       32,33,34,35,46,47,\n",
    "       68,69,70,71,\n",
    "       136,137,138,139,142,143]\n",
    "values = [0,\n",
    "        0,10,\n",
    "        0,0,\n",
    "        0,20,5,0,\n",
    "        0,0,7,0,\n",
    "        10,20,0,0,0,6,\n",
    "        0,0,5,0,\n",
    "        10,6,3,10,7,2]\n",
    "for p,v in zip(pos,values):\n",
    "    positions[p-1] = v\n",
    "leaves = [0,0,3,0,3,0,4,0]\n",
    "nonleaves = leaves_to_nonleaves(leaves)"
   ]
  },
  {
   "cell_type": "code",
   "execution_count": 2,
   "metadata": {},
   "outputs": [
    {
     "name": "stdout",
     "output_type": "stream",
     "text": [
      "\n",
      "                                             ______________0\n",
      "                                            /               \\\n",
      "                                        ___0__               10\n",
      "                                       /      \\\n",
      "          ____________________________0        0__\n",
      "         /                             \\      /   \\\n",
      "     ___0________________               20   5     0__\n",
      "    /                    \\                        /   \\\n",
      "  _0               _______0__                    7     0\n",
      " /  \\             /          \\                        / \\\n",
      "10   20        __0__          0__                    0   6\n",
      "              /     \\        /   \\\n",
      "            _0       0      5     0\n",
      "           /  \\     / \\          / \\\n",
      "          10   6   3   10       7   2\n",
      "\n",
      "拆分叶节点 {10, 3}\n",
      "合并 {4, 23}\n",
      "\n",
      "    __________________________0__\n",
      "   /                             \\\n",
      "  0__________________             0\n",
      " /                   \\           / \\\n",
      "0                   __0__       0   0\n",
      "                   /     \\\n",
      "            ______0       0\n",
      "           /       \\     / \\\n",
      "        __0__       0   0   0\n",
      "       /     \\\n",
      "      0       0\n",
      "     / \\     / \\\n",
      "    0   0   0   0\n",
      "\n",
      "拆分叶节点 {10, 3, 46, 47}\n",
      "合并 {4}\n",
      "\n",
      "    __________________________0__\n",
      "   /                             \\\n",
      "  0______                         0\n",
      " /       \\                       / \\\n",
      "0       __0__                   0   0\n",
      "       /     \\\n",
      "      0       0______\n",
      "     / \\     /       \\\n",
      "    0   0   0       __0__\n",
      "                   /     \\\n",
      "                  0       0\n",
      "                 / \\     / \\\n",
      "                0   0   0   0\n",
      "\n"
     ]
    }
   ],
   "source": [
    "operates,optimals,cost = binary_tree_cost(positions,nonleaves)\n",
    "old_tree = BTree.list_to_tree(positions)\n",
    "print(old_tree)\n",
    "for tree,operate in zip(optimals,operates):\n",
    "    sep,com = operate\n",
    "    print(\"拆分叶节点\",sep)\n",
    "    print(\"合并\",com)\n",
    "    print(tree)"
   ]
  },
  {
   "cell_type": "code",
   "execution_count": 3,
   "metadata": {},
   "outputs": [],
   "source": [
    "ti = old_tree.tree_indexs()"
   ]
  },
  {
   "cell_type": "code",
   "execution_count": 4,
   "metadata": {},
   "outputs": [
    {
     "name": "stdout",
     "output_type": "stream",
     "text": [
      "\n",
      "                                                              ____________________1\n",
      "                                                             /                     \\\n",
      "                                                          __2___                    3\n",
      "                                                         /      \\\n",
      "           _____________________________________________4       _5___\n",
      "          /                                              \\     /     \\\n",
      "     ____8_________________________                       9   10     _11___\n",
      "    /                              \\                                /      \\\n",
      "  _16                   ____________17___                          22      _23\n",
      " /   \\                 /                 \\                                /   \\\n",
      "32    33         _____34____             _35____                         46    47\n",
      "                /           \\           /       \\\n",
      "              _68_          _69_       70       _71_\n",
      "             /    \\        /    \\              /    \\\n",
      "           136    137    138    139          142    143\n",
      "\n"
     ]
    }
   ],
   "source": [
    "print(ti)"
   ]
  },
  {
   "cell_type": "code",
   "execution_count": null,
   "metadata": {},
   "outputs": [],
   "source": []
  }
 ],
 "metadata": {
  "kernelspec": {
   "display_name": "Python 3",
   "language": "python",
   "name": "python3"
  },
  "language_info": {
   "codemirror_mode": {
    "name": "ipython",
    "version": 3
   },
   "file_extension": ".py",
   "mimetype": "text/x-python",
   "name": "python",
   "nbconvert_exporter": "python",
   "pygments_lexer": "ipython3",
   "version": "3.8.10"
  }
 },
 "nbformat": 4,
 "nbformat_minor": 4
}
