{
 "cells": [
  {
   "cell_type": "markdown",
   "metadata": {},
   "source": [
    "## 陈航的算法"
   ]
  },
  {
   "cell_type": "code",
   "execution_count": 8,
   "metadata": {},
   "outputs": [],
   "source": [
    "def is_tree(tree):\n",
    "    \"\"\"检查数据\"\"\"\n",
    "    pass\n",
    "\n",
    "def get_nodes_k(tree):\n",
    "    \"\"\"获取第 k 层的节点\"\"\"\n",
    "    pass\n",
    "\n",
    "def get_nodes(tree):\n",
    "    \"\"\"获取所有节点\"\"\"\n",
    "    pass\n",
    "\n",
    "def get_leaves(tree,x):\n",
    "    \"\"\"获取 x 位置的叶节点\"\"\"\n",
    "    pass\n",
    "\n",
    "def cost_of_nodes(tree):\n",
    "    \"\"\"每个位置的开销\"\"\"\n",
    "    pass\n",
    "\n",
    "def new_tree(tree,index):\n",
    "    \"\"\"由节点信息生成树\"\"\"\n",
    "    pass\n",
    "\n",
    "def tree_depth(tree):\n",
    "    \"\"\"树的深度\"\"\"\n",
    "    pass\n",
    "\n",
    "def choose(data,n):\n",
    "    \"\"\"从 data 中取 n 个元素\"\"\"\n",
    "    if n > len(data) or n==0: return []\n",
    "    if n == 1: return [[i] for i in data]\n",
    "    if n == len(data): return [data]\n",
    "    omitlast = choose(data[:-1],n)\n",
    "    takelast = [ i+[data[-1]] for i in choose(data[:-1],n-1)]\n",
    "    return omitlast+takelast"
   ]
  },
  {
   "cell_type": "code",
   "execution_count": 4,
   "metadata": {
    "code_folding": [
     2,
     10
    ]
   },
   "outputs": [],
   "source": [
    "n = 8\n",
    "tree = [None for i in range(2**n)]\n",
    "pos = [1, \n",
    "       2,3, \n",
    "       4,5, \n",
    "       8,9,10,11, \n",
    "       16,17,18,19,22,23,\n",
    "       32,33,44,45,\n",
    "       88,89,90,91,\n",
    "       176,177]\n",
    "value = [0,\n",
    "        0,0,\n",
    "        0,0,\n",
    "        0,0,0,0,\n",
    "        0,35,40,0,0,0,\n",
    "        10,20,0,0,\n",
    "        0,50,20,10,\n",
    "        10,5]\n",
    "for p,v in zip(pos,value):\n",
    "    tree[p-1] = v\n",
    "leaves = [0,0,2,0,3,2,3,26]"
   ]
  },
  {
   "cell_type": "code",
   "execution_count": 3,
   "metadata": {},
   "outputs": [],
   "source": [
    "# 初始化\n",
    "root = [None for i in range(2**n)]\n",
    "root[0] = 0\n",
    "test_trees = [root]"
   ]
  },
  {
   "cell_type": "code",
   "execution_count": null,
   "metadata": {},
   "outputs": [],
   "source": [
    "tree = test_trees[0]\n",
    "k = tree_depth(tree)\n"
   ]
  },
  {
   "cell_type": "code",
   "execution_count": null,
   "metadata": {},
   "outputs": [],
   "source": [
    "k = tree.max_depth # 深度\n",
    "news = tree.trees_by_k_nonleaves(nonleaves[k]) # 代入该层非叶数\n",
    "for new in news:\n",
    "    new.cost = tree.cost + new_cost(new,k)\n",
    "if k+2 == n: # 得到最后一层\n",
    "    for new in news:\n",
    "        if new.cost > min_cost:\n",
    "            continue\n",
    "        if new.cost == min_cost:\n",
    "             optimals.append(new)\n",
    "        else:\n",
    "            min_cost = new.cost\n",
    "            optimals = [new]\n",
    "    tmp_trees = [tree for tree in tmp_trees if tree.cost<= min_cost]\n",
    "else:\n",
    "    tmp_trees.extend(news)\n",
    "    tmp_trees.sort(key=lambda x:x.cost-x.max_depth)\n",
    "print(min_cost,len(optimals),k,len(tmp_trees))"
   ]
  }
 ],
 "metadata": {
  "kernelspec": {
   "display_name": "Python 3",
   "language": "python",
   "name": "python3"
  },
  "language_info": {
   "codemirror_mode": {
    "name": "ipython",
    "version": 3
   },
   "file_extension": ".py",
   "mimetype": "text/x-python",
   "name": "python",
   "nbconvert_exporter": "python",
   "pygments_lexer": "ipython3",
   "version": "3.8.10"
  }
 },
 "nbformat": 4,
 "nbformat_minor": 4
}
