{
 "cells": [
  {
   "cell_type": "markdown",
   "metadata": {
    "heading_collapsed": true
   },
   "source": [
    "## 测试 "
   ]
  },
  {
   "cell_type": "code",
   "execution_count": null,
   "metadata": {
    "hidden": true
   },
   "outputs": [],
   "source": [
    "from btree import BTree\n",
    "from btree import *"
   ]
  },
  {
   "cell_type": "code",
   "execution_count": null,
   "metadata": {
    "code_folding": [
     0,
     3,
     11
    ],
    "hidden": true
   },
   "outputs": [],
   "source": [
    "# 旧树：通过一维列表初始化\n",
    "n = 8\n",
    "positions = [None for i in range(2**n)]\n",
    "pos = [1, \n",
    "       2,3, \n",
    "       4,5, \n",
    "       8,9,10,11, \n",
    "       16,17,22,23, \n",
    "       32,33,34,35,46,47,\n",
    "       68,69,70,71,\n",
    "       136,137,138,139,142,143]\n",
    "value = [0,\n",
    "        0,10,\n",
    "        0,0,\n",
    "        0,20,5,0,\n",
    "        0,0,7,0,\n",
    "        10,20,0,0,0,6,\n",
    "        0,0,5,0,\n",
    "        10,6,3,10,7,2]\n",
    "for p,v in zip(pos,value):\n",
    "    positions[p-1] = v\n",
    "\n",
    "# 旧树信息\n",
    "old_tree = BTree.list_to_tree(positions)\n",
    "old_nodes = {node.position for node in old_tree}\n",
    "old_leafs = {node.position for node in old_tree.leaves}\n",
    "print(old_tree)"
   ]
  },
  {
   "cell_type": "code",
   "execution_count": null,
   "metadata": {
    "hidden": true
   },
   "outputs": [],
   "source": [
    "# 叶节点转非叶\n",
    "leaves_seq = [0,0,3,0,3,0,4,0]\n",
    "nonleaves = leaves_to_nonleaves(leaves_seq)\n",
    "print(nonleaves)\n",
    "\n",
    "# 新树：非叶节点转树\n",
    "new_trees = nonleaves_to_trees(nonleaves)"
   ]
  },
  {
   "cell_type": "code",
   "execution_count": null,
   "metadata": {
    "hidden": true
   },
   "outputs": [],
   "source": [
    "min_cost = sum(value) # 最小开销\n",
    "optimals = [] # 最优解\n",
    "operates = [] # 最优操作\n",
    "\n",
    "for new_tree in new_trees:\n",
    "    # 新树信息\n",
    "    new_leafs = {node.position for node in new_tree.leaves}\n",
    "    new_nodes = {node.position for node in new_tree}\n",
    "    # 获取操作\n",
    "    com = old_nodes.difference(old_leafs).intersection(new_leafs)\n",
    "    sep = new_nodes.difference(new_leafs).intersection(old_leafs)\n",
    "    # 计算开销\n",
    "    com_leafs = {leaf for leaf in old_leafs if is_child(leaf,com)}\n",
    "    nodes = sep.union(com_leafs) # 被修改的节点\n",
    "    cost = sum(positions[i-1] for i in nodes)\n",
    "    if cost == min_cost and (sep,com) not in operates:\n",
    "        optimals.append(new_tree)\n",
    "        operates.append((sep,com))\n",
    "    elif cost < min_cost:\n",
    "        min_cost = cost\n",
    "        optimals= [new_tree]\n",
    "        operates = [(sep,com)]"
   ]
  },
  {
   "cell_type": "code",
   "execution_count": null,
   "metadata": {
    "hidden": true
   },
   "outputs": [],
   "source": [
    "# 打印结果\n",
    "print(\"开销\",min_cost)\n",
    "print(old_tree)\n",
    "for tree,operate in zip(optimals,operates):\n",
    "    sep,com = operate\n",
    "    print(\"拆分叶节点\",sep)\n",
    "    print(\"合并\",com)\n",
    "    print(tree)"
   ]
  },
  {
   "cell_type": "markdown",
   "metadata": {},
   "source": [
    "## 主函数"
   ]
  },
  {
   "cell_type": "code",
   "execution_count": null,
   "metadata": {},
   "outputs": [],
   "source": [
    "def binary_tree_cost(positions,nonleaves):\n",
    "    \"\"\"求二叉树变形的最优解\"\"\"\n",
    "    old_tree = BTree.list_to_tree(positions)\n",
    "    old_nodes = {node.position for node in old_tree}\n",
    "    old_leafs = {node.position for node in old_tree.leaves}\n",
    "    new_trees = nonleaves_to_trees(nonleaves)\n",
    "    min_cost = sum(positions[i-1] for i in old_leafs) # 最小开销\n",
    "    optimals = [] # 最优解\n",
    "    operates = [] # 最优操作\n",
    "    for new_tree in new_trees:\n",
    "        # 新树信息\n",
    "        new_leafs = {node.position for node in new_tree.leaves}\n",
    "        new_nodes = {node.position for node in new_tree}\n",
    "        # 获取操作\n",
    "        com = old_nodes.difference(old_leafs).intersection(new_leafs)\n",
    "        sep = new_nodes.difference(new_leafs).intersection(old_leafs)\n",
    "        # 计算开销\n",
    "        com_leafs = {leaf for leaf in old_leafs if is_child(leaf,com)}\n",
    "        nodes = sep.union(com_leafs) # 被修改的节点\n",
    "        cost = sum(positions[i-1] for i in nodes)\n",
    "        if cost == min_cost and (sep,com) not in operates:\n",
    "            optimals.append(new_tree)\n",
    "            operates.append((sep,com))\n",
    "        elif cost < min_cost:\n",
    "            min_cost = cost\n",
    "            optimals= [new_tree]\n",
    "            operates = [(sep,com)]\n",
    "    return operates,optimals,cost"
   ]
  },
  {
   "cell_type": "markdown",
   "metadata": {},
   "source": [
    "## 运行示例"
   ]
  },
  {
   "cell_type": "code",
   "execution_count": 1,
   "metadata": {
    "code_folding": [
     2,
     10
    ]
   },
   "outputs": [],
   "source": [
    "from btree import *\n",
    "# 定义旧树\n",
    "n = 8\n",
    "positions = [None for i in range(2**n)]\n",
    "pos = [1, \n",
    "       2,3, \n",
    "       4,5, \n",
    "       8,9,10,11, \n",
    "       16,17,22,23, \n",
    "       32,33,34,35,46,47,\n",
    "       68,69,70,71,\n",
    "       136,137,138,139,142,143]\n",
    "values = [0,\n",
    "        0,10,\n",
    "        0,0,\n",
    "        0,20,5,0,\n",
    "        0,0,7,0,\n",
    "        10,20,0,0,0,6,\n",
    "        0,0,5,0,\n",
    "        10,6,3,10,7,2]\n",
    "for p,v in zip(pos,values):\n",
    "    positions[p-1] = v\n",
    "leaves = [0,0,3,0,3,0,4,0]\n",
    "nonleaves = leaves_to_nonleaves(leaves)"
   ]
  },
  {
   "cell_type": "code",
   "execution_count": 2,
   "metadata": {},
   "outputs": [
    {
     "ename": "TypeError",
     "evalue": "binary_tree_cost() missing 1 required positional argument: 'nonleaves'",
     "output_type": "error",
     "traceback": [
      "\u001b[0;31m---------------------------------------------------------------------------\u001b[0m",
      "\u001b[0;31mTypeError\u001b[0m                                 Traceback (most recent call last)",
      "\u001b[0;32m<ipython-input-2-27b3f265458e>\u001b[0m in \u001b[0;36m<module>\u001b[0;34m\u001b[0m\n\u001b[0;32m----> 1\u001b[0;31m \u001b[0moperates\u001b[0m\u001b[0;34m,\u001b[0m\u001b[0moptimals\u001b[0m\u001b[0;34m,\u001b[0m\u001b[0mcost\u001b[0m \u001b[0;34m=\u001b[0m \u001b[0mbinary_tree_cost\u001b[0m\u001b[0;34m(\u001b[0m\u001b[0mpositions\u001b[0m\u001b[0;34m,\u001b[0m\u001b[0mnonleaves\u001b[0m\u001b[0;34m)\u001b[0m\u001b[0;34m\u001b[0m\u001b[0;34m\u001b[0m\u001b[0m\n\u001b[0m\u001b[1;32m      2\u001b[0m \u001b[0mold_tree\u001b[0m \u001b[0;34m=\u001b[0m \u001b[0mBTree\u001b[0m\u001b[0;34m.\u001b[0m\u001b[0mlist_to_tree\u001b[0m\u001b[0;34m(\u001b[0m\u001b[0mpositions\u001b[0m\u001b[0;34m)\u001b[0m\u001b[0;34m\u001b[0m\u001b[0;34m\u001b[0m\u001b[0m\n\u001b[1;32m      3\u001b[0m \u001b[0mprint\u001b[0m\u001b[0;34m(\u001b[0m\u001b[0mold_tree\u001b[0m\u001b[0;34m)\u001b[0m\u001b[0;34m\u001b[0m\u001b[0;34m\u001b[0m\u001b[0m\n\u001b[1;32m      4\u001b[0m \u001b[0;32mfor\u001b[0m \u001b[0mtree\u001b[0m\u001b[0;34m,\u001b[0m\u001b[0moperate\u001b[0m \u001b[0;32min\u001b[0m \u001b[0mzip\u001b[0m\u001b[0;34m(\u001b[0m\u001b[0moptimals\u001b[0m\u001b[0;34m,\u001b[0m\u001b[0moperates\u001b[0m\u001b[0;34m)\u001b[0m\u001b[0;34m:\u001b[0m\u001b[0;34m\u001b[0m\u001b[0;34m\u001b[0m\u001b[0m\n\u001b[1;32m      5\u001b[0m     \u001b[0msep\u001b[0m\u001b[0;34m,\u001b[0m\u001b[0mcom\u001b[0m \u001b[0;34m=\u001b[0m \u001b[0moperate\u001b[0m\u001b[0;34m\u001b[0m\u001b[0;34m\u001b[0m\u001b[0m\n",
      "\u001b[0;31mTypeError\u001b[0m: binary_tree_cost() missing 1 required positional argument: 'nonleaves'"
     ]
    }
   ],
   "source": [
    "operates,optimals,cost = binary_tree_cost(positions,nonleaves)\n",
    "old_tree = BTree.list_to_tree(positions)\n",
    "print(old_tree)\n",
    "for tree,operate in zip(optimals,operates):\n",
    "    sep,com = operate\n",
    "    print(\"拆分叶节点\",sep)\n",
    "    print(\"合并\",com)\n",
    "    print(tree)"
   ]
  },
  {
   "cell_type": "code",
   "execution_count": null,
   "metadata": {},
   "outputs": [],
   "source": [
    "ti = old_tree.tree_indexs()"
   ]
  },
  {
   "cell_type": "code",
   "execution_count": null,
   "metadata": {},
   "outputs": [],
   "source": [
    "print(ti)"
   ]
  },
  {
   "cell_type": "code",
   "execution_count": null,
   "metadata": {},
   "outputs": [],
   "source": []
  }
 ],
 "metadata": {
  "kernelspec": {
   "display_name": "Python 3",
   "language": "python",
   "name": "python3"
  },
  "language_info": {
   "codemirror_mode": {
    "name": "ipython",
    "version": 3
   },
   "file_extension": ".py",
   "mimetype": "text/x-python",
   "name": "python",
   "nbconvert_exporter": "python",
   "pygments_lexer": "ipython3",
   "version": "3.8.10"
  }
 },
 "nbformat": 4,
 "nbformat_minor": 4
}
