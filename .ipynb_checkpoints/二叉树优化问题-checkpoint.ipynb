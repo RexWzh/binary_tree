{
 "cells": [
  {
   "cell_type": "markdown",
   "metadata": {},
   "source": [
    "## 必备函数"
   ]
  },
  {
   "cell_type": "raw",
   "metadata": {},
   "source": [
    "类功能\n",
    "1. 获取第k层可用节点\n",
    "2. 将节点往下生成叶节点，得到新树\n",
    "3. 获取全体叶节点的位置 "
   ]
  },
  {
   "cell_type": "raw",
   "metadata": {},
   "source": [
    "计算功能\n",
    "1. 叶节点序列转非叶节点序列 yes\n",
    "2. 计算叶节点往下的集合\n",
    "3. 计算开销"
   ]
  },
  {
   "cell_type": "markdown",
   "metadata": {},
   "source": [
    "## 函数实现"
   ]
  },
  {
   "cell_type": "code",
   "execution_count": 4,
   "metadata": {},
   "outputs": [],
   "source": [
    "import binarytree as bt\n",
    "from binarytree import tree,Node"
   ]
  },
  {
   "cell_type": "code",
   "execution_count": 51,
   "metadata": {},
   "outputs": [],
   "source": [
    "root = Node(0)\n",
    "root.depth = 0\n",
    "root.last_layer = [0]"
   ]
  },
  {
   "cell_type": "code",
   "execution_count": null,
   "metadata": {},
   "outputs": [],
   "source": [
    "def nonleafs_to_trees(sequence):\n",
    "    \"\"\"非叶节点序列转二叉树\"\"\""
   ]
  },
  {
   "cell_type": "code",
   "execution_count": 71,
   "metadata": {},
   "outputs": [],
   "source": [
    "def choose(data,n):\n",
    "    \"\"\"从 data 中取 n 个元素(Python 自带工具太少了！)\"\"\"\n",
    "    if n == 0: return []\n",
    "    if n == 1: return [[i] for i in data]\n",
    "    if n == len(data): return [data]\n",
    "    omitlast = choose(data[:-1],n)\n",
    "    takelast = [ i+[data[-1]] for i in choose(data[:-1],n-1)]\n",
    "    return omitlast+takelast"
   ]
  },
  {
   "cell_type": "code",
   "execution_count": 76,
   "metadata": {},
   "outputs": [],
   "source": [
    "from binarytree import Node\n",
    "class Tree():\n",
    "    '''二叉树优化问题'''\n",
    "    def __init__(self):\n",
    "        root = Node(0)\n",
    "        root.depth = 0\n",
    "        _depth = 0\n",
    "        _depth_nodes = [root]\n",
    "        \n",
    "        \n",
    "        \n",
    "        self.root = root # 根节点\n",
    "        self._depth_nodes = _depth_nodes # 记录各层节点\n",
    "    \n",
    "    # 沿用 Node 函数\n",
    "    def __str__(self):\n",
    "        return self.root.__str__()\n",
    "    \n",
    "    def __repr__(self):\n",
    "        return self.root.__str__()\n",
    "    \n",
    "    def __hash__(self):\n",
    "        return self.root.__hash__()\n",
    "    \n",
    "    @property\n",
    "    def depth(self):\n",
    "        \"\"\"树深度\"\"\"\n",
    "        return self._depth\n",
    "    \n",
    "    \n",
    "    def layer_nodes(self,k):\n",
    "        '''第 k 层节点'''\n",
    "    \n",
    "    def right"
   ]
  },
  {
   "cell_type": "markdown",
   "metadata": {
    "heading_collapsed": true
   },
   "source": [
    "### 叶节点转非叶节点序列"
   ]
  },
  {
   "cell_type": "code",
   "execution_count": 12,
   "metadata": {
    "hidden": true
   },
   "outputs": [],
   "source": [
    "def leafs_to_nonleafs(leafs):\n",
    "    \"\"\"叶节点序列转非叶节点序列\"\"\"\n",
    "    # 层数\n",
    "    n = len(leafs)\n",
    "    assert n>0, \"输入不能为空列表\"\n",
    "    # 非叶节点序列和总节点序列\n",
    "    nonleafs,nodes = [1-leafs[0]],[1]\n",
    "    for i in leafs[1:]:\n",
    "        nodes.append(2*nonleafs[-1]) # 总节点数\n",
    "        nonleafs.append(nodes[-1]-i) # 可用根节点数\n",
    "    # 检查未项是否只剩叶节点\n",
    "    assert nonleafs[-1]==0,\"输入叶节点序列不完整\"\n",
    "    return nonleafs"
   ]
  },
  {
   "cell_type": "code",
   "execution_count": 14,
   "metadata": {
    "hidden": true
   },
   "outputs": [
    {
     "name": "stdout",
     "output_type": "stream",
     "text": [
      "[1, 2, 1, 2, 1, 2, 0, 0]\n",
      "[1, 1, 2, 2, 3, 2, 3, 0]\n"
     ]
    }
   ],
   "source": [
    "# 调试函数\n",
    "leafs1 = [0,0,3,0,3,0,4,0]\n",
    "leafs2 = [0,1,0,2,1,4,1,6]\n",
    "print(leafs_to_nonleafs(leafs1))\n",
    "print(leafs_to_nonleafs(leafs2))"
   ]
  },
  {
   "cell_type": "markdown",
   "metadata": {
    "heading_collapsed": true
   },
   "source": [
    "### 节点对应集合"
   ]
  },
  {
   "cell_type": "code",
   "execution_count": 43,
   "metadata": {
    "hidden": true
   },
   "outputs": [],
   "source": [
    "from math import log\n",
    "def child_node_set(node,n):\n",
    "    \"\"\"计算节点所有子结点构成的集合\n",
    "    node 节点对应数字\n",
    "    n 层数\n",
    "    为标号方便，根节点记为1，顶层记为第0层\n",
    "    \"\"\"\n",
    "    level = int(log(node,2))\n",
    "    assert level<=n, \"总层数有误\"\n",
    "    if level == n: return [n]\n",
    "    \n",
    "    # 函数：求下一层节点\n",
    "    next_nodes = lambda x: [2*x,2*x+1]\n",
    "    \n",
    "    # BFS 生成所有子节点\n",
    "    nodes = [[node]]\n",
    "    for i in range(n-level):\n",
    "        new_nodes = []\n",
    "        for x in nodes[-1]:\n",
    "            new_nodes.extend(next_nodes(x))\n",
    "        nodes.append(new_nodes)\n",
    "    return sum(nodes,[]) # 相当于 flatten"
   ]
  }
 ],
 "metadata": {
  "interpreter": {
   "hash": "916dbcbb3f70747c44a77c7bcd40155683ae19c65e1c03b4aa3499c5328201f1"
  },
  "kernelspec": {
   "display_name": "Python 3",
   "language": "python",
   "name": "python3"
  },
  "language_info": {
   "codemirror_mode": {
    "name": "ipython",
    "version": 3
   },
   "file_extension": ".py",
   "mimetype": "text/x-python",
   "name": "python",
   "nbconvert_exporter": "python",
   "pygments_lexer": "ipython3",
   "version": "3.8.10"
  }
 },
 "nbformat": 4,
 "nbformat_minor": 4
}
