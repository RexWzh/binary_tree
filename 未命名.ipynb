{
 "cells": [
  {
   "cell_type": "code",
   "execution_count": 1,
   "metadata": {},
   "outputs": [],
   "source": [
    "from btree import *"
   ]
  },
  {
   "cell_type": "code",
   "execution_count": 2,
   "metadata": {},
   "outputs": [
    {
     "data": {
      "text/plain": [
       "[1, 2, 2, 4, 5, 8, 13, 0]"
      ]
     },
     "execution_count": 2,
     "metadata": {},
     "output_type": "execute_result"
    }
   ],
   "source": [
    "leaves_to_nonleaves([0,0,2,0,3,2,3,26])"
   ]
  },
  {
   "cell_type": "code",
   "execution_count": 4,
   "metadata": {},
   "outputs": [],
   "source": [
    "pos = [1, \n",
    "       2,3, \n",
    "       4,5, \n",
    "       8,9,10,11, \n",
    "       16,17,18,19,22,23,\n",
    "       32,33,44,45,\n",
    "       88,89,90,91,\n",
    "       176,177]\n",
    "value = [0,\n",
    "        0,0,\n",
    "        0,0,\n",
    "        0,0,0,0,\n",
    "        0,35,40,0,0,0,\n",
    "        10,20,0,0,\n",
    "        0,50,20,10,\n",
    "        10,5]"
   ]
  },
  {
   "cell_type": "code",
   "execution_count": 6,
   "metadata": {},
   "outputs": [],
   "source": [
    "n = 8\n",
    "positions = [None for i in range(2**n)]\n",
    "for p,v in zip(pos,value):\n",
    "    positions[p-1] = v"
   ]
  },
  {
   "cell_type": "code",
   "execution_count": 7,
   "metadata": {},
   "outputs": [],
   "source": [
    "leaves = [0,0,2,0,3,2,3,26]\n",
    "nonleaves = leaves_to_nonleaves(leaves)"
   ]
  },
  {
   "cell_type": "code",
   "execution_count": 10,
   "metadata": {},
   "outputs": [],
   "source": [
    "from math import factorial\n",
    "binomial = lambda n,k:factorial(n)//factorial(n-k)//factorial(k)\n",
    "def tree_num_by_nonleaves(nonleaves):\n",
    "    \"\"\"计算遍历数目\"\"\"\n",
    "    if len(nonleaves)==1:return 1\n",
    "    fac = 1\n",
    "    for a,b in zip(nonleaves[:-1],nonleaves[1:]):\n",
    "        fac *= binomial(2*a,b)\n",
    "    return fac"
   ]
  },
  {
   "cell_type": "code",
   "execution_count": null,
   "metadata": {},
   "outputs": [
    {
     "name": "stdout",
     "output_type": "stream",
     "text": [
      "\n",
      "                        ______________________________0\n",
      "                       /                               \\\n",
      "               _______0__                               0\n",
      "              /          \\\n",
      "          ___0___         0______________________\n",
      "         /       \\       /                       \\\n",
      "     ___0        _0     0                 ________0\n",
      "    /    \\      /  \\                     /         \\\n",
      "  _0      35   40   0                ___0___        0\n",
      " /  \\                               /       \\\n",
      "10   20                          __0        _0\n",
      "                                /   \\      /  \\\n",
      "                              _0     50   20   10\n",
      "                             /  \\\n",
      "                            10   5\n",
      "\n",
      "8467200\n"
     ]
    }
   ],
   "source": [
    "old_tree = BTree.list_to_tree(positions)\n",
    "print(old_tree)\n",
    "print(tree_num_by_nonleaves(nonleaves))\n",
    "operates,optimals,cost = binary_tree_cost(positions,nonleaves)\n",
    "for tree,operate in zip(optimals,operates):\n",
    "    sep,com = operate\n",
    "    print(\"拆分叶节点\",sep)\n",
    "    print(\"合并\",com)\n",
    "    print(tree)"
   ]
  },
  {
   "cell_type": "code",
   "execution_count": null,
   "metadata": {},
   "outputs": [],
   "source": []
  }
 ],
 "metadata": {
  "kernelspec": {
   "display_name": "Python 3",
   "language": "python",
   "name": "python3"
  },
  "language_info": {
   "codemirror_mode": {
    "name": "ipython",
    "version": 3
   },
   "file_extension": ".py",
   "mimetype": "text/x-python",
   "name": "python",
   "nbconvert_exporter": "python",
   "pygments_lexer": "ipython3",
   "version": "3.8.10"
  }
 },
 "nbformat": 4,
 "nbformat_minor": 4
}
