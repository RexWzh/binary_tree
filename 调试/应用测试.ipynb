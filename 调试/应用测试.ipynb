{
 "cells": [
  {
   "cell_type": "markdown",
   "metadata": {
    "heading_collapsed": true
   },
   "source": [
    "## 测试 "
   ]
  },
  {
   "cell_type": "code",
   "execution_count": null,
   "metadata": {
    "hidden": true
   },
   "outputs": [],
   "source": [
    "from btree import BTree\n",
    "from btree import *"
   ]
  },
  {
   "cell_type": "code",
   "execution_count": null,
   "metadata": {
    "code_folding": [
     0,
     3,
     11
    ],
    "hidden": true
   },
   "outputs": [],
   "source": [
    "# 旧树：通过一维列表初始化\n",
    "n = 8\n",
    "positions = [None for i in range(2**n)]\n",
    "pos = [1, \n",
    "       2,3, \n",
    "       4,5, \n",
    "       8,9,10,11, \n",
    "       16,17,22,23, \n",
    "       32,33,34,35,46,47,\n",
    "       68,69,70,71,\n",
    "       136,137,138,139,142,143]\n",
    "value = [0,\n",
    "        0,10,\n",
    "        0,0,\n",
    "        0,20,5,0,\n",
    "        0,0,7,0,\n",
    "        10,20,0,0,0,6,\n",
    "        0,0,5,0,\n",
    "        10,6,3,10,7,2]\n",
    "for p,v in zip(pos,value):\n",
    "    positions[p-1] = v\n",
    "\n",
    "# 旧树信息\n",
    "old_tree = BTree.list_to_tree(positions)\n",
    "old_nodes = {node.position for node in old_tree}\n",
    "old_leafs = {node.position for node in old_tree.leaves}\n",
    "print(old_tree)"
   ]
  },
  {
   "cell_type": "code",
   "execution_count": null,
   "metadata": {
    "hidden": true
   },
   "outputs": [],
   "source": [
    "# 叶节点转非叶\n",
    "leaves_seq = [0,0,3,0,3,0,4,0]\n",
    "nonleaves = leaves_to_nonleaves(leaves_seq)\n",
    "print(nonleaves)\n",
    "\n",
    "# 新树：非叶节点转树\n",
    "new_trees = nonleaves_to_trees(nonleaves)"
   ]
  },
  {
   "cell_type": "code",
   "execution_count": null,
   "metadata": {
    "hidden": true
   },
   "outputs": [],
   "source": [
    "min_cost = sum(value) # 最小开销\n",
    "optimals = [] # 最优解\n",
    "operates = [] # 最优操作\n",
    "\n",
    "for new_tree in new_trees:\n",
    "    # 新树信息\n",
    "    new_leafs = {node.position for node in new_tree.leaves}\n",
    "    new_nodes = {node.position for node in new_tree}\n",
    "    # 获取操作\n",
    "    com = old_nodes.difference(old_leafs).intersection(new_leafs)\n",
    "    sep = new_nodes.difference(new_leafs).intersection(old_leafs)\n",
    "    # 计算开销\n",
    "    com_leafs = {leaf for leaf in old_leafs if is_child(leaf,com)}\n",
    "    nodes = sep.union(com_leafs) # 被修改的节点\n",
    "    cost = sum(positions[i-1] for i in nodes)\n",
    "    if cost == min_cost and (sep,com) not in operates:\n",
    "        optimals.append(new_tree)\n",
    "        operates.append((sep,com))\n",
    "    elif cost < min_cost:\n",
    "        min_cost = cost\n",
    "        optimals= [new_tree]\n",
    "        operates = [(sep,com)]"
   ]
  },
  {
   "cell_type": "code",
   "execution_count": null,
   "metadata": {
    "hidden": true
   },
   "outputs": [],
   "source": [
    "# 打印结果\n",
    "print(\"开销\",min_cost)\n",
    "print(old_tree)\n",
    "for tree,operate in zip(optimals,operates):\n",
    "    sep,com = operate\n",
    "    print(\"拆分叶节点\",sep)\n",
    "    print(\"合并\",com)\n",
    "    print(tree)"
   ]
  },
  {
   "cell_type": "markdown",
   "metadata": {
    "heading_collapsed": true
   },
   "source": [
    "## 主函数"
   ]
  },
  {
   "cell_type": "code",
   "execution_count": null,
   "metadata": {
    "hidden": true
   },
   "outputs": [],
   "source": [
    "def binary_tree_cost(positions,nonleaves):\n",
    "    \"\"\"求二叉树变形的最优解\"\"\"\n",
    "    old_tree = BTree.list_to_tree(positions)\n",
    "    old_nodes = {node.position for node in old_tree}\n",
    "    old_leafs = {node.position for node in old_tree.leaves}\n",
    "    new_trees = nonleaves_to_trees(nonleaves)\n",
    "    min_cost = sum(positions[i-1] for i in old_leafs) # 最小开销\n",
    "    optimals = [] # 最优解\n",
    "    operates = [] # 最优操作\n",
    "    for new_tree in new_trees:\n",
    "        # 新树信息\n",
    "        new_leafs = {node.position for node in new_tree.leaves}\n",
    "        new_nodes = {node.position for node in new_tree}\n",
    "        # 获取操作\n",
    "        com = old_nodes.difference(old_leafs).intersection(new_leafs)\n",
    "        sep = new_nodes.difference(new_leafs).intersection(old_leafs)\n",
    "        # 计算开销\n",
    "        com_leafs = {leaf for leaf in old_leafs if is_child(leaf,com)}\n",
    "        nodes = sep.union(com_leafs) # 被修改的节点\n",
    "        cost = sum(positions[i-1] for i in nodes)\n",
    "        if cost == min_cost and (sep,com) not in operates:\n",
    "            optimals.append(new_tree)\n",
    "            operates.append((sep,com))\n",
    "        elif cost < min_cost:\n",
    "            min_cost = cost\n",
    "            optimals= [new_tree]\n",
    "            operates = [(sep,com)]\n",
    "    return operates,optimals,min_cost"
   ]
  },
  {
   "cell_type": "markdown",
   "metadata": {},
   "source": [
    "## 运行示例"
   ]
  },
  {
   "cell_type": "code",
   "execution_count": null,
   "metadata": {
    "code_folding": [
     2,
     10
    ]
   },
   "outputs": [],
   "source": [
    "from btree import *\n",
    "# 定义旧树\n",
    "n = 8\n",
    "positions = [None for i in range(2**n)]\n",
    "pos = [1, \n",
    "       2,3, \n",
    "       4,5, \n",
    "       8,9,10,11, \n",
    "       16,17,22,23, \n",
    "       32,33,34,35,46,47,\n",
    "       68,69,70,71,\n",
    "       136,137,138,139,142,143]\n",
    "values = [0,\n",
    "        0,10,\n",
    "        0,0,\n",
    "        0,20,5,0,\n",
    "        0,0,7,0,\n",
    "        10,20,0,0,0,6,\n",
    "        0,0,5,0,\n",
    "        10,6,3,10,7,2]\n",
    "for p,v in zip(pos,values):\n",
    "    positions[p-1] = v\n",
    "leaves = [0,0,3,0,3,0,4,0]\n",
    "nonleaves = leaves_to_nonleaves(leaves)"
   ]
  },
  {
   "cell_type": "code",
   "execution_count": null,
   "metadata": {},
   "outputs": [],
   "source": [
    "operates,optimals,cost = binary_tree_cost(positions,nonleaves)\n",
    "old_tree = BTree.list_to_tree(positions)\n",
    "print(old_tree)\n",
    "for tree,operate in zip(optimals,operates):\n",
    "    sep,com = operate\n",
    "    print(\"拆分叶节点\",sep)\n",
    "    print(\"合并\",com)\n",
    "    print(tree)"
   ]
  },
  {
   "cell_type": "markdown",
   "metadata": {},
   "source": [
    "### 随机测试"
   ]
  },
  {
   "cell_type": "code",
   "execution_count": 3,
   "metadata": {},
   "outputs": [],
   "source": [
    "from math import factorial\n",
    "binomial = lambda n,k:factorial(n)//factorial(n-k)//factorial(k)"
   ]
  },
  {
   "cell_type": "code",
   "execution_count": 66,
   "metadata": {
    "scrolled": true
   },
   "outputs": [],
   "source": [
    "def tree_num_by_nonleaves(nonleaves):\n",
    "    \"\"\"计算遍历数目\"\"\"\n",
    "    if len(nonleaves)==1:return 1\n",
    "    fac = 1\n",
    "    for a,b in zip(nonleaves[:-1],nonleaves[1:]):\n",
    "        fac *= binomial(2*a,b)\n",
    "    return fac"
   ]
  },
  {
   "cell_type": "code",
   "execution_count": 18,
   "metadata": {},
   "outputs": [],
   "source": [
    "from btree import *\n",
    "import time\n",
    "# 定义旧树\n",
    "n = 8\n",
    "positions = [None for i in range(2**n)]\n",
    "pos = [1, \n",
    "       2,3, \n",
    "       4,5, \n",
    "       8,9,10,11, \n",
    "       16,17,22,23, \n",
    "       32,33,34,35,46,47,\n",
    "       68,69,70,71,\n",
    "       136,137,138,139,142,143]\n",
    "values = [0,\n",
    "        0,10,\n",
    "        0,0,\n",
    "        0,20,5,0,\n",
    "        0,0,7,0,\n",
    "        10,20,0,0,0,6,\n",
    "        0,0,5,0,\n",
    "        10,6,3,10,7,2]\n",
    "for p,v in zip(pos,values):\n",
    "    positions[p-1] = v\n",
    "\n",
    "def test(n):\n",
    "    nonleaves = random_nonleaves_seq(n)\n",
    "    print(nonleaves)\n",
    "    old_tree = BTree.list_to_tree(positions)\n",
    "    print(old_tree)\n",
    "    print(\"总数目\",tree_num_by_leaves(nonleaves))\n",
    "    t = time.time()\n",
    "    operates,optimals,cost = binary_tree_cost(positions,nonleaves)\n",
    "    print(\"用时%.3f\"%(time.time()-t))\n",
    "    for tree,operate in zip(optimals,operates):\n",
    "        sep,com = operate\n",
    "        print(\"最优解数目：%d\\t 最优解：%d\"%(len(optimals),cost))\n",
    "        print(\"拆分叶节点\",sep)\n",
    "        print(\"合并\",com)\n",
    "        print(tree)"
   ]
  },
  {
   "cell_type": "code",
   "execution_count": 90,
   "metadata": {
    "scrolled": false
   },
   "outputs": [
    {
     "name": "stdout",
     "output_type": "stream",
     "text": [
      "[1, 2, 3, 2, 1, 2, 1, 0]\n",
      "\n",
      "                                             ______________0\n",
      "                                            /               \\\n",
      "                                        ___0__               10\n",
      "                                       /      \\\n",
      "          ____________________________0        0__\n",
      "         /                             \\      /   \\\n",
      "     ___0________________               20   5     0__\n",
      "    /                    \\                        /   \\\n",
      "  _0               _______0__                    7     0\n",
      " /  \\             /          \\                        / \\\n",
      "10   20        __0__          0__                    0   6\n",
      "              /     \\        /   \\\n",
      "            _0       0      5     0\n",
      "           /  \\     / \\          / \\\n",
      "          10   6   3   10       7   2\n",
      "\n",
      "总数目 960\n",
      "用时0.455\n",
      "最优解数目：1\t 最优解：68\n",
      "拆分叶节点 {3}\n",
      "合并 {16, 23, 69, 71}\n",
      "\n",
      "                            __________0______\n",
      "                           /                 \\\n",
      "                        __0__               __0\n",
      "                       /     \\             /   \\\n",
      "    __________________0       0__         0     0\n",
      "   /                   \\     /   \\       / \\\n",
      "  0__________           0   0     0     0   0\n",
      " /           \\                   / \\\n",
      "0           __0__               0   0\n",
      "           /     \\\n",
      "        __0       0\n",
      "       /   \\     / \\\n",
      "      0     0   0   0\n",
      "     / \\\n",
      "    0   0\n",
      "\n"
     ]
    }
   ],
   "source": [
    "test(n)"
   ]
  },
  {
   "cell_type": "code",
   "execution_count": 39,
   "metadata": {},
   "outputs": [
    {
     "name": "stdout",
     "output_type": "stream",
     "text": [
      "[1, 2, 4, 2, 3, 3, 2, 0]\n",
      "\n",
      "                                             ______________0\n",
      "                                            /               \\\n",
      "                                        ___0__               10\n",
      "                                       /      \\\n",
      "          ____________________________0        0__\n",
      "         /                             \\      /   \\\n",
      "     ___0________________               20   5     0__\n",
      "    /                    \\                        /   \\\n",
      "  _0               _______0__                    7     0\n",
      " /  \\             /          \\                        / \\\n",
      "10   20        __0__          0__                    0   6\n",
      "              /     \\        /   \\\n",
      "            _0       0      5     0\n",
      "           /  \\     / \\          / \\\n",
      "          10   6   3   10       7   2\n",
      "\n",
      "总数目 33600\n",
      "用时17.244\n",
      "最优解数目：1\t 最优解：19\n",
      "拆分叶节点 {3, 46}\n",
      "合并 {71}\n",
      "\n",
      "                                    __________________0______\n",
      "                                   /                         \\\n",
      "                                __0__                       __0__\n",
      "                               /     \\                     /     \\\n",
      "        ______________________0       0__                 0       0\n",
      "       /                       \\     /   \\               / \\     / \\\n",
      "    __0______________           0   0     0______       0   0   0   0\n",
      "   /                 \\                   /       \\\n",
      "  0             ______0__               0       __0\n",
      " / \\           /         \\                     /   \\\n",
      "0   0       __0__         0                   0     0\n",
      "           /     \\       / \\                 / \\\n",
      "          0       0     0   0               0   0\n",
      "         / \\     / \\\n",
      "        0   0   0   0\n",
      "\n"
     ]
    }
   ],
   "source": [
    "test(n)"
   ]
  },
  {
   "cell_type": "code",
   "execution_count": 91,
   "metadata": {},
   "outputs": [
    {
     "name": "stdout",
     "output_type": "stream",
     "text": [
      "[1, 1, 1, 2, 4, 3, 4, 0]\n",
      "\n",
      "                                             ______________0\n",
      "                                            /               \\\n",
      "                                        ___0__               10\n",
      "                                       /      \\\n",
      "          ____________________________0        0__\n",
      "         /                             \\      /   \\\n",
      "     ___0________________               20   5     0__\n",
      "    /                    \\                        /   \\\n",
      "  _0               _______0__                    7     0\n",
      " /  \\             /          \\                        / \\\n",
      "10   20        __0__          0__                    0   6\n",
      "              /     \\        /   \\\n",
      "            _0       0      5     0\n",
      "           /  \\     / \\          / \\\n",
      "          10   6   3   10       7   2\n",
      "\n",
      "总数目 3360\n",
      "用时1.442\n",
      "最优解数目：1\t 最优解：38\n",
      "拆分叶节点 {9}\n",
      "合并 {5}\n",
      "\n",
      "                                                            __0\n",
      "                                                           /   \\\n",
      "                                    ______________________0     0\n",
      "                                   /                       \\\n",
      "        __________________________0______________           0\n",
      "       /                                         \\\n",
      "    __0______________                           __0__\n",
      "   /                 \\                         /     \\\n",
      "  0             ______0__                   __0       0\n",
      " / \\           /         \\                 /   \\     / \\\n",
      "0   0       __0__         0__           __0     0   0   0\n",
      "           /     \\       /   \\         /   \\\n",
      "          0       0     0     0       0     0\n",
      "         / \\     / \\         / \\     / \\\n",
      "        0   0   0   0       0   0   0   0\n",
      "\n"
     ]
    }
   ],
   "source": [
    "test(n)"
   ]
  },
  {
   "cell_type": "code",
   "execution_count": 92,
   "metadata": {},
   "outputs": [
    {
     "data": {
      "text/plain": [
       "(900480, 99520)"
      ]
     },
     "execution_count": 92,
     "metadata": {},
     "output_type": "execute_result"
    }
   ],
   "source": [
    "acceptable = 0\n",
    "intolerable = 0\n",
    "for i in range(1000000):\n",
    "    nonleaves = random_nonleaves_seq(n)\n",
    "    num = tree_num_by_nonleaves(nonleaves)\n",
    "    if num < 10**7:\n",
    "        acceptable += 1\n",
    "    else:\n",
    "        intolerable += 1\n",
    "acceptable,intolerable"
   ]
  },
  {
   "cell_type": "code",
   "execution_count": 82,
   "metadata": {},
   "outputs": [
    {
     "data": {
      "text/plain": [
       "449397407209308259968"
      ]
     },
     "execution_count": 82,
     "metadata": {},
     "output_type": "execute_result"
    }
   ],
   "source": [
    "nonleaves = [1, 2, 4, 8, 16, 26, 26, 0]\n",
    "tree_num_by_nonleaves(nonleaves)"
   ]
  },
  {
   "cell_type": "code",
   "execution_count": null,
   "metadata": {},
   "outputs": [],
   "source": []
  }
 ],
 "metadata": {
  "kernelspec": {
   "display_name": "Python 3",
   "language": "python",
   "name": "python3"
  },
  "language_info": {
   "codemirror_mode": {
    "name": "ipython",
    "version": 3
   },
   "file_extension": ".py",
   "mimetype": "text/x-python",
   "name": "python",
   "nbconvert_exporter": "python",
   "pygments_lexer": "ipython3",
   "version": "3.7.7"
  }
 },
 "nbformat": 4,
 "nbformat_minor": 4
}
