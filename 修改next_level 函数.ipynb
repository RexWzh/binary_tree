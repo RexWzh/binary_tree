{
 "cells": [
  {
   "cell_type": "markdown",
   "metadata": {},
   "source": [
    "## 调整向下生成方法"
   ]
  },
  {
   "cell_type": "code",
   "execution_count": 15,
   "metadata": {},
   "outputs": [],
   "source": [
    "from btree import *"
   ]
  },
  {
   "cell_type": "markdown",
   "metadata": {
    "heading_collapsed": true
   },
   "source": [
    "### 增加判叶属性"
   ]
  },
  {
   "cell_type": "code",
   "execution_count": null,
   "metadata": {
    "hidden": true
   },
   "outputs": [],
   "source": [
    "Node.is_leaf = lambda self:self.left is None and self.right is None"
   ]
  },
  {
   "cell_type": "code",
   "execution_count": null,
   "metadata": {
    "hidden": true
   },
   "outputs": [],
   "source": [
    "t = BTree(2)\n",
    "print(t.is_leaf())\n",
    "t.left = Node(3)\n",
    "print(t.is_leaf())"
   ]
  },
  {
   "cell_type": "code",
   "execution_count": null,
   "metadata": {
    "hidden": true
   },
   "outputs": [],
   "source": [
    "class rex():\n",
    "    def __init__(self):\n",
    "        self.a = 1\n",
    "    pass\n",
    "rex.new_method = lambda self:self.a"
   ]
  },
  {
   "cell_type": "code",
   "execution_count": null,
   "metadata": {
    "hidden": true
   },
   "outputs": [],
   "source": [
    "obj = rex()\n",
    "obj.new_method()"
   ]
  },
  {
   "cell_type": "markdown",
   "metadata": {},
   "source": [
    "### 变量作用域测试"
   ]
  },
  {
   "cell_type": "markdown",
   "metadata": {},
   "source": [
    "1. 将函数导入本地空间后，定义空间仍在模块中，只是调用更直接了\n",
    "2. 使用 from import 与直接 import ，二者使用同一模块空间"
   ]
  },
  {
   "cell_type": "code",
   "execution_count": 4,
   "metadata": {},
   "outputs": [],
   "source": [
    "from test import *"
   ]
  },
  {
   "cell_type": "code",
   "execution_count": 14,
   "metadata": {},
   "outputs": [
    {
     "data": {
      "text/plain": [
       "1"
      ]
     },
     "execution_count": 14,
     "metadata": {},
     "output_type": "execute_result"
    }
   ],
   "source": [
    "import test\n",
    "test.glvalue"
   ]
  },
  {
   "cell_type": "code",
   "execution_count": 13,
   "metadata": {},
   "outputs": [
    {
     "name": "stdout",
     "output_type": "stream",
     "text": [
      "1\n"
     ]
    }
   ],
   "source": [
    "zong()"
   ]
  },
  {
   "cell_type": "code",
   "execution_count": 10,
   "metadata": {},
   "outputs": [],
   "source": [
    "glvalue = 3"
   ]
  },
  {
   "cell_type": "markdown",
   "metadata": {},
   "source": [
    "### 修改 tree_to_list"
   ]
  },
  {
   "cell_type": "code",
   "execution_count": 17,
   "metadata": {},
   "outputs": [
    {
     "name": "stdout",
     "output_type": "stream",
     "text": [
      "\n",
      "     ___0___\n",
      "    /       \\\n",
      "  _0        _0__________________\n",
      " /  \\      /                    \\\n",
      "10   27   20             ________0__\n",
      "                        /           \\\n",
      "                    ___0___          0\n",
      "                   /       \\        / \\\n",
      "                 _0        _0      6   25\n",
      "                /  \\      /  \\\n",
      "               28   22   10   25\n",
      "\n"
     ]
    }
   ],
   "source": [
    "tree = BTree.random_binary_tree(5)\n",
    "print(tree)"
   ]
  },
  {
   "cell_type": "code",
   "execution_count": 19,
   "metadata": {},
   "outputs": [
    {
     "data": {
      "text/plain": [
       "5"
      ]
     },
     "execution_count": 19,
     "metadata": {},
     "output_type": "execute_result"
    }
   ],
   "source": [
    "tree.max_leaf_depth"
   ]
  },
  {
   "cell_type": "code",
   "execution_count": 16,
   "metadata": {},
   "outputs": [],
   "source": [
    "def node_to_list(tree,depth):\n",
    "    \"\"\"节点树 -> 列表\"\"\"\n",
    "    positions = [None for i in range(2**(depth+1)-1)]\n",
    "    for node in tree:\n",
    "        # 位置平移公式\n",
    "        dep = node.depth - tree.depth\n",
    "        pos = node.position - (tree.position-1)*(2**dep)\n",
    "        positions[pos-1]=node.value\n",
    "    return positions"
   ]
  },
  {
   "cell_type": "markdown",
   "metadata": {},
   "source": [
    "### 修改函数"
   ]
  },
  {
   "cell_type": "code",
   "execution_count": null,
   "metadata": {},
   "outputs": [],
   "source": []
  },
  {
   "cell_type": "code",
   "execution_count": null,
   "metadata": {
    "code_folding": [
     0
    ]
   },
   "outputs": [],
   "source": [
    "def next_level(tree,ak):\n",
    "    \"\"\"选取 ak 个位置，生成下一层树\"\"\"\n",
    "    # 三类节点\n",
    "    news = [] # 新一层树\n",
    "    sep,not_sep,whatever = [],[],[]\n",
    "    for node in tree.last_layer:\n",
    "        node_pos = node.position\n",
    "        if node_pos in nonleaf_cost: # 非叶子节点\n",
    "            sep.append(node_pos)\n",
    "        elif node_pos in leaf_cost: # 带开销的叶子节点\n",
    "            not_sep.append(node_pos)\n",
    "            node.value = leaf_cost[node_pos]\n",
    "        else: # 零开销位置\n",
    "            whatever.append(node_pos)\n",
    "    # 产生新树\n",
    "    if ak < len(sep): # 展开少，取 sep 子集，增加未取部分开销\n",
    "        for choice in choose(sep,ak):\n",
    "            new = tree.new_tree_by_list(choice)\n",
    "            new.cost += sum(nonleaf_cost[i] for i in sep if i not in choice)\n",
    "            news.append(new)\n",
    "    elif len(sep) <= ak <= len(sep)+len(whatever): # 展开适中，不增加开销\n",
    "        choice = sep + whatever[:ak-len(sep)]\n",
    "        news = [tree.new_tree_by_list(choice)]\n",
    "    else: # 展开多，取 not_sep 子集，增加选取部分开销\n",
    "        for choice in choose(not_sep,ak-len(sep)-len(whatever)):\n",
    "            new = tree.new_tree_by_list(sep+whatever+choice)\n",
    "            new.cost += sum(leaf_cost[i] for i in choice)\n",
    "            news.append(new)\n",
    "    if nonleaves[k+1]==0:\n",
    "        is_end = True\n",
    "        if k+2<n: # 剩下节点合并\n",
    "            for new in news:\n",
    "                new.cost += sum(nonleaf_cost.get(node.position,0) for node in new.last_layer)\n",
    "    return news,is_end"
   ]
  },
  {
   "cell_type": "code",
   "execution_count": null,
   "metadata": {
    "code_folding": [
     0
    ]
   },
   "outputs": [],
   "source": [
    "def main(positions,leaves):\n",
    "    \"\"\"函数打包\"\"\"\n",
    "    n = len(leaves)\n",
    "    old = BTree.list_to_tree(positions)\n",
    "    nonleaf_cost,leaf_cost = get_nodes_cost(old) # 节点开销信息\n",
    "    nonleaves = leaves_to_nonleaves(leaves)\n",
    "    root = BTree(0)\n",
    "    root.cost = 0 # 初始开销\n",
    "    min_cost = sum(leaf_cost.values()) # 最小开销\n",
    "    optimal = None # 最优解\n",
    "    tmp_trees = [root] # 待遍历集合\n",
    "    while len(tmp_trees):\n",
    "        tree = tmp_trees[0] # 取最小开销树\n",
    "        tmp_trees = tmp_trees[1:]\n",
    "        news,is_end = next_level(tree,nonleaves,nonleaf_cost,leaf_cost)\n",
    "        # 处理新树\n",
    "        if is_end: # 树已完全展开\n",
    "            for new in news:\n",
    "                if new.cost < min_cost:\n",
    "                    min_cost = new.cost\n",
    "                    optimal = new\n",
    "                    tmp_trees = [tree for tree in tmp_trees if tree.cost<= min_cost]\n",
    "        else: # 树不完整\n",
    "            tmp_trees.extend(news) # 加入新结果\n",
    "            tmp_trees.sort(key=lambda x:x.cost-x.depth) # 排序\n",
    "    return optimal,min_cost"
   ]
  }
 ],
 "metadata": {
  "kernelspec": {
   "display_name": "Python 3",
   "language": "python",
   "name": "python3"
  },
  "language_info": {
   "codemirror_mode": {
    "name": "ipython",
    "version": 3
   },
   "file_extension": ".py",
   "mimetype": "text/x-python",
   "name": "python",
   "nbconvert_exporter": "python",
   "pygments_lexer": "ipython3",
   "version": "3.8.10"
  }
 },
 "nbformat": 4,
 "nbformat_minor": 4
}
