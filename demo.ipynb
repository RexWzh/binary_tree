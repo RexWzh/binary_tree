{
 "cells": [
  {
   "cell_type": "code",
   "execution_count": 1,
   "metadata": {},
   "outputs": [],
   "source": [
    "from btree import *\n",
    "import time"
   ]
  },
  {
   "cell_type": "markdown",
   "metadata": {},
   "source": [
    "### 随机测试一"
   ]
  },
  {
   "cell_type": "code",
   "execution_count": 2,
   "metadata": {
    "code_folding": []
   },
   "outputs": [],
   "source": [
    "n = 8\n",
    "positions = [None for i in range(2**n-1)] # 旧树\n",
    "pos = [1, \n",
    "       2,3, \n",
    "       4,5, \n",
    "       8,9,10,11, \n",
    "       16,17,18,19,22,23,\n",
    "       32,33,44,45,\n",
    "       88,89,90,91,\n",
    "       176,177]\n",
    "value = [0,\n",
    "        0,0,\n",
    "        0,0,\n",
    "        0,0,0,0,\n",
    "        0,35,40,0,0,0,\n",
    "        10,20,0,0,\n",
    "        0,50,20,10,\n",
    "        10,5]\n",
    "for p,v in zip(pos,value):\n",
    "    positions[p-1] = v"
   ]
  },
  {
   "cell_type": "code",
   "execution_count": 3,
   "metadata": {},
   "outputs": [
    {
     "name": "stdout",
     "output_type": "stream",
     "text": [
      "操作开销 0\n",
      "拆开位置 {19, 10, 3} 合并位置 set()\n"
     ]
    }
   ],
   "source": [
    "leaves = [0,0,2,0,3,2,3,26]\n",
    "optimal,cost = main(positions,leaves)\n",
    "print(\"操作开销\",cost)\n",
    "old = BTree.list_to_tree(positions)\n",
    "sep,com = get_operations(old,optimal)\n",
    "print(\"拆开位置\",sep,\"合并位置\",com)"
   ]
  },
  {
   "cell_type": "code",
   "execution_count": 4,
   "metadata": {},
   "outputs": [
    {
     "name": "stdout",
     "output_type": "stream",
     "text": [
      "用时1.455\n"
     ]
    }
   ],
   "source": [
    "t = time.time()\n",
    "for i in range(1000):\n",
    "    leaves = random_leaves_seq(n)\n",
    "    optimal,cost = main(positions,leaves)\n",
    "print(\"用时%.3f\"%(time.time()-t))"
   ]
  },
  {
   "cell_type": "markdown",
   "metadata": {},
   "source": [
    "### 随机测试二"
   ]
  },
  {
   "cell_type": "code",
   "execution_count": 5,
   "metadata": {},
   "outputs": [],
   "source": [
    "n = 8\n",
    "positions = [None for i in range(2**n-1)]\n",
    "pos = [1, \n",
    "       2,3, \n",
    "       4,5, \n",
    "       8,9,10,11, \n",
    "       16,17,22,23, \n",
    "       32,33,34,35,46,47,\n",
    "       68,69,70,71,\n",
    "       136,137,138,139,142,143]\n",
    "value = [0,\n",
    "        0,10,\n",
    "        0,0,\n",
    "        0,20,5,0,\n",
    "        0,0,7,0,\n",
    "        10,20,0,0,0,6,\n",
    "        0,0,5,0,\n",
    "        10,6,3,10,7,2]\n",
    "for p,v in zip(pos,value):\n",
    "    positions[p-1] = v"
   ]
  },
  {
   "cell_type": "code",
   "execution_count": 6,
   "metadata": {},
   "outputs": [
    {
     "name": "stdout",
     "output_type": "stream",
     "text": [
      "114\n"
     ]
    }
   ],
   "source": [
    "leaves = [0,0,3,0,3,0,4,0]\n",
    "optimal,cost = main(positions,leaves)\n",
    "print(cost)"
   ]
  },
  {
   "cell_type": "code",
   "execution_count": 8,
   "metadata": {},
   "outputs": [
    {
     "name": "stdout",
     "output_type": "stream",
     "text": [
      "0.154\n"
     ]
    }
   ],
   "source": [
    "t = time.time()\n",
    "for i in range(100):\n",
    "    leaves = random_leaves_seq(n)\n",
    "    optimal,cost = main(positions,leaves)\n",
    "print(\"%.3f\"%(time.time()-t))"
   ]
  },
  {
   "cell_type": "markdown",
   "metadata": {},
   "source": [
    "### 坏情形测试"
   ]
  },
  {
   "cell_type": "code",
   "execution_count": 9,
   "metadata": {},
   "outputs": [],
   "source": [
    "from math import factorial\n",
    "binomial = lambda n,k:factorial(n)//factorial(n-k)//factorial(k)\n",
    "def tree_num_by_nonleaves(nonleaves):\n",
    "    \"\"\"计算遍历数目\"\"\"\n",
    "    if len(nonleaves)==1:return 1\n",
    "    fac = 1\n",
    "    for a,b in zip(nonleaves[:-1],nonleaves[1:]):\n",
    "        fac *= binomial(2*a,b)\n",
    "    return fac"
   ]
  },
  {
   "cell_type": "code",
   "execution_count": 10,
   "metadata": {
    "collapsed": true
   },
   "outputs": [
    {
     "name": "stdout",
     "output_type": "stream",
     "text": [
      "计算用时22.501s\n",
      "操作开销 7381\n",
      "拆开位置 set() 合并位置 {121, 2, 58, 122, 59, 123, 120, 124, 24, 25, 26, 27, 28}\n"
     ]
    }
   ],
   "source": [
    "n = 8\n",
    "positions = [0]*(2**(n-1)-1) + list(range(2**(n-1)))\n",
    "leaves = [0, 1, 0, 0, 5, 2, 5, 6] # 18 秒\n",
    "t = time.time()\n",
    "optimal,cost = main(positions,leaves)\n",
    "print(\"计算用时%.3fs\"%(time.time()-t))\n",
    "print(\"操作开销\",cost)\n",
    "old = BTree.list_to_tree(positions)\n",
    "sep,com = get_operations(old,optimal)\n",
    "print(\"拆开位置\",sep,\"合并位置\",com)"
   ]
  },
  {
   "cell_type": "code",
   "execution_count": null,
   "metadata": {},
   "outputs": [],
   "source": []
  }
 ],
 "metadata": {
  "interpreter": {
   "hash": "916dbcbb3f70747c44a77c7bcd40155683ae19c65e1c03b4aa3499c5328201f1"
  },
  "kernelspec": {
   "display_name": "Python 3",
   "language": "python",
   "name": "python3"
  },
  "language_info": {
   "codemirror_mode": {
    "name": "ipython",
    "version": 3
   },
   "file_extension": ".py",
   "mimetype": "text/x-python",
   "name": "python",
   "nbconvert_exporter": "python",
   "pygments_lexer": "ipython3",
   "version": "3.8.10"
  }
 },
 "nbformat": 4,
 "nbformat_minor": 4
}
