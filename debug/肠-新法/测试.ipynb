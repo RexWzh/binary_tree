{
 "cells": [
  {
   "cell_type": "markdown",
   "metadata": {},
   "source": [
    "### 导入并修改随机函数"
   ]
  },
  {
   "cell_type": "code",
   "execution_count": 1,
   "metadata": {
    "code_folding": [
     5,
     30
    ]
   },
   "outputs": [],
   "source": [
    "from btree import *\n",
    "import time,math,transm\n",
    "\n",
    "class BTree(BTree):\n",
    "    @staticmethod\n",
    "    def random_binary_tree(depth,max_value=30):\n",
    "        \"\"\"函数重定义\n",
    "        生成深度为 depth+4 层随机树，叶子取值范围为 [0,max_value]\n",
    "        1. 0-3 层完全展开\n",
    "        2. 4层开始，每层至少保留一个叶子节点\n",
    "        \"\"\"\n",
    "        t = BTree(0) # 初始树\n",
    "        # 补四层节点\n",
    "        for i in range(4): \n",
    "            last_layer = t.last_layer # 最后一层\n",
    "            for leaf in last_layer:\n",
    "                BTree.add_left_right_to_node(leaf)\n",
    "            t._max_depth += 1 # 深度增加\n",
    "        # 随机生成树\n",
    "        for i in range(depth-1):\n",
    "            last_layer = t.last_layer # 最后一层\n",
    "            split_num = randint(1,len(last_layer)-1) # 随机数目\n",
    "            split_leaves = sample(last_layer,split_num) # 随机位置\n",
    "            for leaf in split_leaves:\n",
    "                BTree.add_left_right_to_node(leaf)\n",
    "            t._max_depth += 1 # 深度增加\n",
    "        for leaf in t.leaves: # 叶子节点随机值\n",
    "            leaf.value = randint(0,max_value)\n",
    "        return t\n",
    "\n",
    "def random_nonleaves_seq(n,skip=0):\n",
    "    \"\"\"函数重定义 ！！！\n",
    "    随机生成 n+4 层非叶节点序列\n",
    "    1. 0-3层完全展开\n",
    "    2. 4层开始，每层至少保留一个叶节点\n",
    "    \"\"\"\n",
    "    n += 4\n",
    "    seq = [1,2,4,8]\n",
    "    while len(seq)!=n-1:\n",
    "        total = seq[-1] * 2\n",
    "        seq.append(randint(1,total-1))\n",
    "    return seq+[0]"
   ]
  },
  {
   "cell_type": "markdown",
   "metadata": {
    "heading_collapsed": true
   },
   "source": [
    "### 测试数据"
   ]
  },
  {
   "cell_type": "raw",
   "metadata": {
    "hidden": true
   },
   "source": [
    "修改transm.test:\n",
    "    print 改 return"
   ]
  },
  {
   "cell_type": "code",
   "execution_count": 15,
   "metadata": {
    "collapsed": true,
    "hidden": true
   },
   "outputs": [
    {
     "name": "stdout",
     "output_type": "stream",
     "text": [
      "[0, 0, 0, 5, 3, 4, 4]\n",
      "新法用时 0.012 s 计算结果为 1887\n",
      "我的用时 0.011 s 计算结果为 1710\n",
      "\n"
     ]
    },
    {
     "ename": "AssertionError",
     "evalue": "计算结果不匹配",
     "output_type": "error",
     "traceback": [
      "\u001b[0;31m---------------------------------------------------------------------------\u001b[0m",
      "\u001b[0;31mAssertionError\u001b[0m                            Traceback (most recent call last)",
      "\u001b[0;32m<ipython-input-15-29a704ab5acd>\u001b[0m in \u001b[0;36m<module>\u001b[0;34m\u001b[0m\n\u001b[1;32m     24\u001b[0m     \u001b[0mprint\u001b[0m\u001b[0;34m(\u001b[0m\u001b[0;34m\"我的用时 %.3f s\"\u001b[0m\u001b[0;34m%\u001b[0m\u001b[0;34m(\u001b[0m\u001b[0mtime_end\u001b[0m \u001b[0;34m-\u001b[0m \u001b[0mtime_start\u001b[0m\u001b[0;34m)\u001b[0m\u001b[0;34m,\u001b[0m\u001b[0;34m\"计算结果为 %d\\n\"\u001b[0m\u001b[0;34m%\u001b[0m\u001b[0mmin_cost\u001b[0m\u001b[0;34m)\u001b[0m\u001b[0;34m\u001b[0m\u001b[0;34m\u001b[0m\u001b[0m\n\u001b[1;32m     25\u001b[0m \u001b[0;34m\u001b[0m\u001b[0m\n\u001b[0;32m---> 26\u001b[0;31m     \u001b[0;32massert\u001b[0m \u001b[0mans\u001b[0m \u001b[0;34m==\u001b[0m \u001b[0mmin_cost\u001b[0m\u001b[0;34m,\u001b[0m\u001b[0;34m\"计算结果不匹配\"\u001b[0m\u001b[0;34m\u001b[0m\u001b[0;34m\u001b[0m\u001b[0m\n\u001b[0m",
      "\u001b[0;31mAssertionError\u001b[0m: 计算结果不匹配"
     ]
    }
   ],
   "source": [
    "for i in range(8):\n",
    "    ### 初始化 #####################\n",
    "    main_tree = BTree.random_binary_tree(7,200) # 随机 7 层树\n",
    "    subtrees = [node for node in main_tree if node.depth==3] # 节点子树\n",
    "    \n",
    "    # 旧方法：单个列表\n",
    "    old_positions = BTree.tree_to_list(main_tree)\n",
    "    leaves = random_leaves_seq(7)\n",
    "    \n",
    "    # 新方法：拆 8 个列表\n",
    "    positions = [BTree.node_to_list(tree,7) for tree in subtrees] \n",
    "    tmp_tar = leaves[3:]\n",
    "    print(leaves)\n",
    "    \n",
    "    ### 测试开始 ###################\n",
    "    time_start=time.time()\n",
    "    ans = transm.test(positions, tmp_tar)\n",
    "    time_end = time.time()\n",
    "    print(\"新法用时 %.3f s\"%(time_end - time_start),\"计算结果为 %d\"%ans)\n",
    "    \n",
    "    time_start=time.time()\n",
    "    optimal,min_cost = main(old_positions,leaves)\n",
    "    time_end = time.time()\n",
    "    print(\"我的用时 %.3f s\"%(time_end - time_start),\"计算结果为 %d\\n\"%min_cost)\n",
    "    \n",
    "    assert ans == min_cost,\"计算结果不匹配\""
   ]
  },
  {
   "cell_type": "markdown",
   "metadata": {},
   "source": [
    "### 具体例子"
   ]
  },
  {
   "cell_type": "code",
   "execution_count": 3,
   "metadata": {
    "collapsed": true
   },
   "outputs": [
    {
     "name": "stdout",
     "output_type": "stream",
     "text": [
      "2380 2083\n"
     ]
    },
    {
     "ename": "AssertionError",
     "evalue": "计算结果不匹配",
     "output_type": "error",
     "traceback": [
      "\u001b[0;31m---------------------------------------------------------------------------\u001b[0m",
      "\u001b[0;31mAssertionError\u001b[0m                            Traceback (most recent call last)",
      "\u001b[0;32m<ipython-input-3-3fce5e5a5e5b>\u001b[0m in \u001b[0;36m<module>\u001b[0;34m\u001b[0m\n\u001b[1;32m     11\u001b[0m \u001b[0moptimal\u001b[0m\u001b[0;34m,\u001b[0m\u001b[0mmin_cost\u001b[0m \u001b[0;34m=\u001b[0m \u001b[0mmain\u001b[0m\u001b[0;34m(\u001b[0m\u001b[0mold_positions\u001b[0m\u001b[0;34m,\u001b[0m\u001b[0mleaves\u001b[0m\u001b[0;34m)\u001b[0m\u001b[0;34m\u001b[0m\u001b[0;34m\u001b[0m\u001b[0m\n\u001b[1;32m     12\u001b[0m \u001b[0mprint\u001b[0m\u001b[0;34m(\u001b[0m\u001b[0mans\u001b[0m\u001b[0;34m,\u001b[0m\u001b[0mmin_cost\u001b[0m\u001b[0;34m)\u001b[0m\u001b[0;34m\u001b[0m\u001b[0;34m\u001b[0m\u001b[0m\n\u001b[0;32m---> 13\u001b[0;31m \u001b[0;32massert\u001b[0m \u001b[0mans\u001b[0m \u001b[0;34m==\u001b[0m \u001b[0mmin_cost\u001b[0m\u001b[0;34m,\u001b[0m\u001b[0;34m\"计算结果不匹配\"\u001b[0m\u001b[0;34m\u001b[0m\u001b[0;34m\u001b[0m\u001b[0m\n\u001b[0m",
      "\u001b[0;31mAssertionError\u001b[0m: 计算结果不匹配"
     ]
    }
   ],
   "source": [
    "main_tree = read_vari(\"error.data\")\n",
    "subtrees = [node for node in main_tree if node.depth==3] # 节点子树\n",
    "# 旧方法：单个列表\n",
    "old_positions = BTree.tree_to_list(main_tree)\n",
    "leaves = [0, 0, 0, 0, 12, 7, 1, 1, 1, 1, 2]\n",
    "# 新方法：拆 8 个列表\n",
    "positions = [BTree.node_to_list(tree,7) for tree in subtrees] \n",
    "tmp_tar = leaves[3:]\n",
    "\n",
    "ans = transm.test(positions, tmp_tar)\n",
    "optimal,min_cost = main(old_positions,leaves)\n",
    "print(ans,min_cost)\n",
    "assert ans == min_cost,\"计算结果不匹配\""
   ]
  },
  {
   "cell_type": "code",
   "execution_count": 5,
   "metadata": {},
   "outputs": [
    {
     "name": "stdout",
     "output_type": "stream",
     "text": [
      "(set(), {108, 16, 19, 437, 25, 29, 30, 31})\n",
      "\n",
      "    ___0\n",
      "   /    \\\n",
      "  0      61\n",
      " / \\\n",
      "6   68\n",
      "\n",
      "\n",
      "  _0___\n",
      " /     \\\n",
      "94     _0\n",
      "      /  \\\n",
      "     70   82\n",
      "\n",
      "\n",
      "      ____0_\n",
      "     /      \\\n",
      "   _0_      157\n",
      "  /   \\\n",
      "197   135\n",
      "\n",
      "\n",
      "   _0\n",
      "  /  \\\n",
      "100   51\n",
      "\n",
      "\n",
      "     ____0____\n",
      "    /         \\\n",
      "  _0_         _0\n",
      " /   \\       /  \\\n",
      "89   191   110   59\n",
      "\n",
      "\n",
      "  _0__________________________________________\n",
      " /                                            \\\n",
      "98              _______________________________0_\n",
      "               /                                 \\\n",
      "          ____0_________________________         108\n",
      "         /                              \\\n",
      "       _0_                      _________0_\n",
      "      /   \\                    /           \\\n",
      "     95   157         ________0___         158\n",
      "                     /            \\\n",
      "                   _0___          _0_\n",
      "                  /     \\        /   \\\n",
      "                160     _0      66   154\n",
      "                       /  \\\n",
      "                      60   45\n",
      "\n",
      "\n",
      "      ____0___\n",
      "     /        \\\n",
      "   _0_        _0_________\n",
      "  /   \\      /           \\\n",
      "200   182   22         ___0____\n",
      "                      /        \\\n",
      "                    _0         _0_\n",
      "                   /  \\       /   \\\n",
      "                 128   24   107   181\n",
      "\n",
      "\n",
      "      ____0_____________________\n",
      "     /                          \\\n",
      "   _0_                       ____0\n",
      "  /   \\                     /     \\\n",
      "143   116              ____0_      2\n",
      "                      /      \\\n",
      "                  ___0_      119\n",
      "                 /     \\\n",
      "               _0      173\n",
      "              /  \\\n",
      "            124   77\n",
      "\n"
     ]
    }
   ],
   "source": [
    "print(get_operations(main_tree,optimal))\n",
    "for node in subtrees:\n",
    "    print(node)"
   ]
  }
 ],
 "metadata": {
  "kernelspec": {
   "display_name": "Python 3",
   "language": "python",
   "name": "python3"
  },
  "language_info": {
   "codemirror_mode": {
    "name": "ipython",
    "version": 3
   },
   "file_extension": ".py",
   "mimetype": "text/x-python",
   "name": "python",
   "nbconvert_exporter": "python",
   "pygments_lexer": "ipython3",
   "version": "3.8.10"
  }
 },
 "nbformat": 4,
 "nbformat_minor": 4
}
