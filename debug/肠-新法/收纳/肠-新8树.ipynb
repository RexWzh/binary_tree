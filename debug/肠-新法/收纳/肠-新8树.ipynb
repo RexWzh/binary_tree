{
 "cells": [
  {
   "cell_type": "markdown",
   "metadata": {},
   "source": [
    "### 导入"
   ]
  },
  {
   "cell_type": "code",
   "execution_count": 1,
   "metadata": {
    "code_folding": [
     5,
     13,
     30,
     44,
     53
    ]
   },
   "outputs": [],
   "source": [
    "from btree import *\n",
    "import trans,time,math,transm\n",
    "\n",
    "class BTree(BTree):\n",
    "    @staticmethod\n",
    "    def random_binary_tree(depth,max_value=30):\n",
    "        \"\"\"函数重定义\n",
    "        生成深度为 depth+4 层随机树，叶子取值范围为 [0,max_value]\n",
    "        1. 0-3 层完全展开\n",
    "        2. 4层开始，每层至少保留一个叶子节点\n",
    "        \"\"\"\n",
    "        t = BTree(0) # 初始树\n",
    "        # 补四层节点\n",
    "        for i in range(4): \n",
    "            last_layer = t.last_layer # 最后一层\n",
    "            for leaf in last_layer:\n",
    "                BTree.add_left_right_to_node(leaf)\n",
    "            t._max_depth += 1 # 深度增加\n",
    "        # 随机生成树\n",
    "        for i in range(depth-1):\n",
    "            last_layer = t.last_layer # 最后一层\n",
    "            split_num = randint(1,len(last_layer)-1) # 随机数目\n",
    "            split_leaves = sample(last_layer,split_num) # 随机位置\n",
    "            for leaf in split_leaves:\n",
    "                BTree.add_left_right_to_node(leaf)\n",
    "            t._max_depth += 1 # 深度增加\n",
    "        for leaf in t.leaves: # 叶子节点随机值\n",
    "            leaf.value = randint(0,max_value)\n",
    "        return t\n",
    "\n",
    "def random_nonleaves_seq(n,skip=0):\n",
    "    \"\"\"函数重定义 ！！！\n",
    "    随机生成 n+4 层非叶节点序列\n",
    "    1. 0-3层完全展开\n",
    "    2. 4层开始，每层至少保留一个叶节点\n",
    "    \"\"\"\n",
    "    n += 4\n",
    "    seq = [1,2,4,8]\n",
    "    while len(seq)!=n-1:\n",
    "        total = seq[-1] * 2\n",
    "        seq.append(randint(1,total-1))\n",
    "    return seq+[0]"
   ]
  },
  {
   "cell_type": "markdown",
   "metadata": {
    "heading_collapsed": true
   },
   "source": [
    "### 节点转树"
   ]
  },
  {
   "cell_type": "code",
   "execution_count": null,
   "metadata": {
    "code_folding": [],
    "hidden": true
   },
   "outputs": [],
   "source": [
    "# 新增函数\n",
    "class BTree(BTree):\n",
    "    @staticmethod\n",
    "    def node_to_list(tree,depth):\n",
    "        \"\"\"节点树 -> 列表\"\"\"\n",
    "        positions = [None for i in range(2**(depth+1)-1)]\n",
    "        for node in tree:\n",
    "            # 位置平移公式\n",
    "            dep = node.depth - tree.depth\n",
    "            pos = node.position - (tree.position-1)*(2**dep)\n",
    "            positions[pos-1]=node.value\n",
    "        return positions\n",
    "\n",
    "### 测试代码 ###\n",
    "# 初始化\n",
    "main_tree = BTree.random_binary_tree(7) # 随机 11 层树\n",
    "subtrees = [node for node in main_tree if node.depth==3] # 取第3层，得八棵树\n",
    "positions = [BTree.node_to_list(tree,7) for tree in subtrees] # 八棵树转列表\n",
    "\n",
    "# 测试\n",
    "sub_trees_by_pos = [BTree.list_to_tree(pos) for pos in positions] # 重新转树\n",
    "for tree1,tree2 in zip(sub_trees_by_pos,subtrees):\n",
    "    assert str(tree1)==str(tree2),\"重新得到的树不一样！\"\n",
    "print(\"函数测试通过\")"
   ]
  },
  {
   "cell_type": "markdown",
   "metadata": {
    "heading_collapsed": true
   },
   "source": [
    "### 测试-旧函数"
   ]
  },
  {
   "cell_type": "markdown",
   "metadata": {
    "hidden": true
   },
   "source": [
    "存在错误，这部分讨论没有意义"
   ]
  },
  {
   "cell_type": "code",
   "execution_count": null,
   "metadata": {
    "code_folding": [
     0
    ],
    "hidden": true
   },
   "outputs": [],
   "source": [
    "for i in range(10): # 测试 10 棵随机初始树\n",
    "    tree = BTree.random_binary_tree(7,200) # 初始树：前三层全展开\n",
    "    positions = BTree.tree_to_positions(tree)\n",
    "    start_time = time.time()\n",
    "    single_max_time = 0\n",
    "    for j in range(50):\n",
    "        t = time.time()\n",
    "        leaves = random_leaves_seq(7) # 叶子节点：前四层为0\n",
    "        trans.ans = math.inf\n",
    "        trans.dfs(positions,leaves , 0, 0)\n",
    "        single_time = time.time()-t\n",
    "        if single_time>single_max_time:\n",
    "            single_max_time = single_time\n",
    "        _,min_cost = main(positions,leaves)\n",
    "        print(\"\\r位置\",j,\"总用时 %.3fs\"%(time.time()-start_time),min_cost==trans.ans,end=\"\")\n",
    "    print(\"\\nresult\",trans.ans,\"平均用时 %.4fs\"%((time.time()-start_time)/50),\n",
    "          \"最高用时 %.3fs\\n\"%single_max_time)"
   ]
  },
  {
   "cell_type": "code",
   "execution_count": null,
   "metadata": {
    "hidden": true
   },
   "outputs": [],
   "source": [
    "save_vari(tree,\"tree.data\")\n",
    "depth_3_nodes = [node for node in tree if node.depth==3]"
   ]
  },
  {
   "cell_type": "code",
   "execution_count": null,
   "metadata": {
    "code_folding": [],
    "hidden": true
   },
   "outputs": [],
   "source": [
    "for node in depth_3_nodes:\n",
    "    print(node)"
   ]
  },
  {
   "cell_type": "markdown",
   "metadata": {
    "heading_collapsed": true
   },
   "source": [
    "### 测试-新函数"
   ]
  },
  {
   "cell_type": "code",
   "execution_count": null,
   "metadata": {
    "code_folding": [],
    "hidden": true,
    "scrolled": true
   },
   "outputs": [],
   "source": [
    "for i in range(8):\n",
    "    tree = BTree.random_binary_tree(7,200) # 随机 7 层树\n",
    "    subtrees = [node for node in tree if node.depth==3] # 节点子树\n",
    "    positions = [BTree.node_to_positions(tree,7) for tree in subtrees] # 转列表类型\n",
    "    time_start=time.time()\n",
    "    for i in range(100):\n",
    "        tmp_tar = random_leaves_seq(7)[3:]\n",
    "        transm.test(positions, tmp_tar)\n",
    "    time_end = time.time()\n",
    "    print((time_end - time_start)/100) "
   ]
  },
  {
   "cell_type": "markdown",
   "metadata": {},
   "source": [
    "### 方法对比-发现错误"
   ]
  },
  {
   "cell_type": "code",
   "execution_count": 2,
   "metadata": {
    "collapsed": true
   },
   "outputs": [
    {
     "name": "stdout",
     "output_type": "stream",
     "text": [
      "[0, 1, 1, 1, 1, 1, 2]\n",
      "新法用时 0.013 s 计算结果为 1350\n",
      "我的用时 0.002 s 计算结果为 2032\n",
      "\n"
     ]
    },
    {
     "ename": "AssertionError",
     "evalue": "计算结果不匹配",
     "output_type": "error",
     "traceback": [
      "\u001b[0;31m---------------------------------------------------------------------------\u001b[0m",
      "\u001b[0;31mAssertionError\u001b[0m                            Traceback (most recent call last)",
      "\u001b[0;32m<ipython-input-2-6d6ee4faf0e1>\u001b[0m in \u001b[0;36m<module>\u001b[0;34m\u001b[0m\n\u001b[1;32m     24\u001b[0m     \u001b[0mprint\u001b[0m\u001b[0;34m(\u001b[0m\u001b[0;34m\"我的用时 %.3f s\"\u001b[0m\u001b[0;34m%\u001b[0m\u001b[0;34m(\u001b[0m\u001b[0mtime_end\u001b[0m \u001b[0;34m-\u001b[0m \u001b[0mtime_start\u001b[0m\u001b[0;34m)\u001b[0m\u001b[0;34m,\u001b[0m\u001b[0;34m\"计算结果为 %d\\n\"\u001b[0m\u001b[0;34m%\u001b[0m\u001b[0mmin_cost\u001b[0m\u001b[0;34m)\u001b[0m\u001b[0;34m\u001b[0m\u001b[0;34m\u001b[0m\u001b[0m\n\u001b[1;32m     25\u001b[0m \u001b[0;34m\u001b[0m\u001b[0m\n\u001b[0;32m---> 26\u001b[0;31m     \u001b[0;32massert\u001b[0m \u001b[0mans\u001b[0m \u001b[0;34m==\u001b[0m \u001b[0mmin_cost\u001b[0m\u001b[0;34m,\u001b[0m\u001b[0;34m\"计算结果不匹配\"\u001b[0m\u001b[0;34m\u001b[0m\u001b[0;34m\u001b[0m\u001b[0m\n\u001b[0m",
      "\u001b[0;31mAssertionError\u001b[0m: 计算结果不匹配"
     ]
    }
   ],
   "source": [
    "for i in range(8):\n",
    "    ### 初始化 ###\n",
    "    main_tree = BTree.random_binary_tree(7,200) # 随机 7 层树\n",
    "    subtrees = [node for node in main_tree if node.depth==3] # 节点子树\n",
    "    \n",
    "    # 旧方法：单个列表\n",
    "    old_positions = BTree.tree_to_list(main_tree)\n",
    "    leaves = random_leaves_seq(7)\n",
    "    \n",
    "    # 新方法：拆 8 个列表\n",
    "    positions = [BTree.node_to_list(tree,7) for tree in subtrees] \n",
    "    tmp_tar = leaves[3:]\n",
    "    print(leaves)\n",
    "    \n",
    "    ### 测试开始 ###\n",
    "    time_start=time.time()\n",
    "    ans = transm.test(positions, tmp_tar)\n",
    "    time_end = time.time()\n",
    "    print(\"新法用时 %.3f s\"%(time_end - time_start),\"计算结果为 %d\"%ans)\n",
    "    \n",
    "    time_start=time.time()\n",
    "    optimal,min_cost = main(old_positions,leaves)\n",
    "    time_end = time.time()\n",
    "    print(\"我的用时 %.3f s\"%(time_end - time_start),\"计算结果为 %d\\n\"%min_cost)\n",
    "    \n",
    "    assert ans == min_cost,\"计算结果不匹配\""
   ]
  },
  {
   "cell_type": "code",
   "execution_count": 4,
   "metadata": {
    "collapsed": true
   },
   "outputs": [
    {
     "name": "stdout",
     "output_type": "stream",
     "text": [
      "\n",
      "           ____8\n",
      "          /     \\\n",
      "     ____16      17\n",
      "    /      \\\n",
      "  _32       33\n",
      " /   \\\n",
      "64    65\n",
      "\n",
      "\n",
      "          ____0_\n",
      "         /      \\\n",
      "     ___0_      141\n",
      "    /     \\\n",
      "  _0      156\n",
      " /  \\\n",
      "76   72\n",
      "\n",
      "----\n",
      "\n",
      "     ____9\n",
      "    /     \\\n",
      "  _18      19\n",
      " /   \\\n",
      "36    37\n",
      "\n",
      "\n",
      "      ____0\n",
      "     /     \\\n",
      "   _0_      68\n",
      "  /   \\\n",
      "117   176\n",
      "\n",
      "----\n",
      "\n",
      "  _10\n",
      " /   \\\n",
      "20    21\n",
      "\n",
      "\n",
      "   _0_\n",
      "  /   \\\n",
      "181   127\n",
      "\n",
      "----\n",
      "\n",
      "  _11\n",
      " /   \\\n",
      "22    23\n",
      "\n",
      "\n",
      "   _0\n",
      "  /  \\\n",
      "148   83\n",
      "\n",
      "----\n",
      "\n",
      "                                   ____________________________________________________12\n",
      "                                  /                                                      \\\n",
      "                     ____________24_____________________________________                  25\n",
      "                    /                                                   \\\n",
      "              _____48____                                           _____49____\n",
      "             /           \\                                         /           \\\n",
      "       _____96_          _97_                                _____98_          _99_\n",
      "      /        \\        /    \\                              /        \\        /    \\\n",
      "   _192_       193    194    195           _______________196_       197    198    199\n",
      "  /     \\                                 /                   \\\n",
      "384     385                            _392______             393\n",
      "                                      /          \\\n",
      "                                    784        __785_\n",
      "                                              /      \\\n",
      "                                            1570     1571\n",
      "\n",
      "\n",
      "                            ________________________________0\n",
      "                           /                                 \\\n",
      "                 _________0______________________             60\n",
      "                /                                \\\n",
      "           ____0____                           ___0___\n",
      "          /         \\                         /       \\\n",
      "      ___0_         _0                    ___0        _0\n",
      "     /     \\       /  \\                  /    \\      /  \\\n",
      "   _0      106   155   16        _______0      58   32   14\n",
      "  /  \\                          /        \\\n",
      "184   50                      _0___       13\n",
      "                             /     \\\n",
      "                            93     _0\n",
      "                                  /  \\\n",
      "                                 24   3\n",
      "\n",
      "----\n",
      "\n",
      "  _13\n",
      " /   \\\n",
      "26    27\n",
      "\n",
      "\n",
      "  0\n",
      " / \\\n",
      "6   19\n",
      "\n",
      "----\n",
      "\n",
      "  _14\n",
      " /   \\\n",
      "28    29\n",
      "\n",
      "\n",
      "  _0\n",
      " /  \\\n",
      "85   58\n",
      "\n",
      "----\n",
      "\n",
      "  _15\n",
      " /   \\\n",
      "30    31\n",
      "\n",
      "\n",
      "   _0_\n",
      "  /   \\\n",
      "124   158\n",
      "\n",
      "----\n"
     ]
    }
   ],
   "source": [
    "for node,pos in zip(subtrees,positions):\n",
    "    print(BTree.position_tree(node))\n",
    "    print(node)\n",
    "    print(\"----\")\n",
    "#     assert str(node)==str(BTree.list_to_tree(pos)),\"出错\""
   ]
  },
  {
   "cell_type": "markdown",
   "metadata": {},
   "source": [
    "### 错误数据"
   ]
  },
  {
   "cell_type": "code",
   "execution_count": 6,
   "metadata": {
    "collapsed": true
   },
   "outputs": [
    {
     "name": "stdout",
     "output_type": "stream",
     "text": [
      "新法结果为 2380\n",
      "我的结果 2083\n"
     ]
    },
    {
     "ename": "AssertionError",
     "evalue": "计算结果不匹配",
     "output_type": "error",
     "traceback": [
      "\u001b[0;31m---------------------------------------------------------------------------\u001b[0m",
      "\u001b[0;31mAssertionError\u001b[0m                            Traceback (most recent call last)",
      "\u001b[0;32m<ipython-input-6-13bd5961551f>\u001b[0m in \u001b[0;36m<module>\u001b[0;34m\u001b[0m\n\u001b[1;32m     17\u001b[0m \u001b[0moptimal\u001b[0m\u001b[0;34m,\u001b[0m\u001b[0mmin_cost\u001b[0m \u001b[0;34m=\u001b[0m \u001b[0mmain\u001b[0m\u001b[0;34m(\u001b[0m\u001b[0mold_positions\u001b[0m\u001b[0;34m,\u001b[0m\u001b[0mleaves\u001b[0m\u001b[0;34m)\u001b[0m\u001b[0;34m\u001b[0m\u001b[0;34m\u001b[0m\u001b[0m\n\u001b[1;32m     18\u001b[0m \u001b[0mprint\u001b[0m\u001b[0;34m(\u001b[0m\u001b[0;34m\"我的结果\"\u001b[0m\u001b[0;34m,\u001b[0m\u001b[0mmin_cost\u001b[0m\u001b[0;34m)\u001b[0m\u001b[0;34m\u001b[0m\u001b[0;34m\u001b[0m\u001b[0m\n\u001b[0;32m---> 19\u001b[0;31m \u001b[0;32massert\u001b[0m \u001b[0mans\u001b[0m  \u001b[0;34m==\u001b[0m \u001b[0mmin_cost\u001b[0m\u001b[0;34m,\u001b[0m\u001b[0;34m\"计算结果不匹配\"\u001b[0m\u001b[0;34m\u001b[0m\u001b[0;34m\u001b[0m\u001b[0m\n\u001b[0m",
      "\u001b[0;31mAssertionError\u001b[0m: 计算结果不匹配"
     ]
    }
   ],
   "source": [
    "### 初始化 ###\n",
    "main_tree = read_vari(\"error.data\")\n",
    "subtrees = [node for node in main_tree if node.depth==3] # 节点子树\n",
    "\n",
    "# 旧方法：单个列表\n",
    "old_positions = BTree.tree_to_list(main_tree)\n",
    "leaves = [0, 0, 0, 0, 12, 7, 1, 1, 1, 1, 2]\n",
    "\n",
    "# 新方法：拆 8 个列表\n",
    "positions = [BTree.node_to_list(node,7) for node in subtrees] \n",
    "tmp_tar = leaves[3:]\n",
    "\n",
    "\n",
    "ans = transm.test(positions, tmp_tar)\n",
    "print(\"新法结果为 %d\"%ans)\n",
    "\n",
    "optimal,min_cost = main(old_positions,leaves)\n",
    "print(\"我的结果\",min_cost)\n",
    "assert ans  == min_cost,\"计算结果不匹配\""
   ]
  },
  {
   "cell_type": "code",
   "execution_count": 10,
   "metadata": {},
   "outputs": [
    {
     "name": "stdout",
     "output_type": "stream",
     "text": [
      "拆分位置 set() 合并位置 {108, 16, 19, 437, 25, 29, 30, 31}\n",
      "叶子节点序列是否匹配： True\n"
     ]
    }
   ],
   "source": [
    "# 获取操作\n",
    "sep,com = get_operations(main_tree,optimal)\n",
    "print(\"拆分位置\",sep,\"合并位置\",com)\n",
    "\n",
    "# 检查叶子节点\n",
    "leaf_seq = [0]*11\n",
    "for leaf in optimal.leaves:\n",
    "    leaf_seq[leaf.depth] += 1\n",
    "print(\"叶子节点序列是否匹配：\",leaf_seq == leaves)"
   ]
  }
 ],
 "metadata": {
  "kernelspec": {
   "display_name": "Python 3",
   "language": "python",
   "name": "python3"
  },
  "language_info": {
   "codemirror_mode": {
    "name": "ipython",
    "version": 3
   },
   "file_extension": ".py",
   "mimetype": "text/x-python",
   "name": "python",
   "nbconvert_exporter": "python",
   "pygments_lexer": "ipython3",
   "version": "3.8.10"
  }
 },
 "nbformat": 4,
 "nbformat_minor": 4
}
