{
 "cells": [
  {
   "cell_type": "code",
   "execution_count": 1,
   "metadata": {},
   "outputs": [],
   "source": [
    "import math,transm,time\n",
    "from btree import *\n",
    "\n",
    "def random_nonleaf_seq(n):\n",
    "    \"\"\"随机生成 n 层的非叶节点序列\"\"\"\n",
    "    assert n>0, \"层数至少为1\"\n",
    "    if n==1: return [0]\n",
    "    seq = [1]\n",
    "    while len(seq)!=n-1:\n",
    "        total = seq[-1] * 2\n",
    "        seq.append(randint(1,total))\n",
    "    return seq+[0]"
   ]
  },
  {
   "cell_type": "markdown",
   "metadata": {},
   "source": [
    "### 旧测试"
   ]
  },
  {
   "cell_type": "code",
   "execution_count": null,
   "metadata": {},
   "outputs": [],
   "source": [
    "for _ in range(10):\n",
    "    print(_,end=\"\\t\")\n",
    "    positions = []\n",
    "    depths = []\n",
    "    for tree_k in range(8):\n",
    "        if tree_k ==  0:\n",
    "            tmp_arr = BTree.random_binary_tree(7, 1, 200)\n",
    "            tmp_arr = BTree.tree_to_positions(tmp_arr)\n",
    "            positions.append(tmp_arr)\n",
    "        else:\n",
    "            k = randint(1, 7)\n",
    "            depths.append(k+1)\n",
    "            tmp_arr = BTree.random_binary_tree(k, 0, 200)\n",
    "            tmp_arr = BTree.tree_to_positions(tmp_arr)\n",
    "            positions.append(tmp_arr)\n",
    "    print(depths,end=\"\\t\")\n",
    "    # tmp_arr = BTree.random_binary_tree(7, 1)\n",
    "    # tmp_arr = BTree.tree_to_positions(tmp_arr)\n",
    "    time_start=time.time()\n",
    "    for i in range(1000):\n",
    "        tmp_tar = [0] * 8\n",
    "        for _ in range(8):\n",
    "            ttmp_tar = random_leaf_seq(8)\n",
    "            for kk in range(len(tmp_tar)):\n",
    "                tmp_tar[kk] += ttmp_tar[kk]\n",
    "        transm.test(positions, tmp_tar)\n",
    "    time_end = time.time()\n",
    "    print((time_end - time_start)/1000)    "
   ]
  },
  {
   "cell_type": "code",
   "execution_count": null,
   "metadata": {},
   "outputs": [],
   "source": [
    "for i in range(8):\n",
    "    positions = []\n",
    "    for tree_k in range(8):\n",
    "        if tree_k ==  0:\n",
    "            tmp_arr = BTree.random_binary_tree(7, 1, 200)\n",
    "            tmp_arr = BTree.tree_to_positions(tmp_arr)\n",
    "            positions.append(tmp_arr)\n",
    "        else:\n",
    "            tmp_arr = BTree.random_binary_tree(7, 0, 200)\n",
    "            tmp_arr = BTree.tree_to_positions(tmp_arr)\n",
    "            positions.append(tmp_arr)\n",
    "    time_start=time.time()\n",
    "    for i in range(100):\n",
    "        tmp_tar = [0] * 8\n",
    "        for _ in range(8):\n",
    "            ttmp_tar = random_leaf_seq(8)\n",
    "            for kk in range(len(tmp_tar)):\n",
    "                tmp_tar[kk] += ttmp_tar[kk]\n",
    "        transm.test(positions, tmp_tar)\n",
    "    time_end = time.time()\n",
    "    print((time_end - time_start)/100) "
   ]
  },
  {
   "cell_type": "code",
   "execution_count": null,
   "metadata": {},
   "outputs": [],
   "source": [
    "time_start=time.time()\n",
    "for i in range(100):\n",
    "    tmp_tar = [0] * 8\n",
    "    for _ in range(8):\n",
    "        ttmp_tar = random_leaf_seq(8)\n",
    "        for kk in range(len(tmp_tar)):\n",
    "            tmp_tar[kk] += ttmp_tar[kk]\n",
    "    transm.test(positions, tmp_tar)\n",
    "    print(i,end=\"\\t\")\n",
    "time_end = time.time()\n",
    "print((time_end - time_start)/100) "
   ]
  },
  {
   "cell_type": "code",
   "execution_count": null,
   "metadata": {},
   "outputs": [],
   "source": [
    "for pos in positions:\n",
    "    print(BTree.list_to_tree(pos))"
   ]
  },
  {
   "cell_type": "code",
   "execution_count": null,
   "metadata": {},
   "outputs": [],
   "source": [
    "def save_vari(v,name):\n",
    "    '''文件存储'''\n",
    "    import pickle\n",
    "    fout = open(name,'wb')\n",
    "    pickle.dump(v,fout)\n",
    "    fout.close()\n",
    "    \n",
    "def read_vari(name):\n",
    "    '''读取文件'''\n",
    "    import pickle\n",
    "    fin = open(name,'rb')\n",
    "    a = pickle.load(fin)\n",
    "    fin.close()\n",
    "    return a"
   ]
  },
  {
   "cell_type": "markdown",
   "metadata": {},
   "source": [
    "### 错误数据测试"
   ]
  },
  {
   "cell_type": "code",
   "execution_count": 2,
   "metadata": {},
   "outputs": [],
   "source": [
    "from test_data import leaves,positions"
   ]
  },
  {
   "cell_type": "code",
   "execution_count": 3,
   "metadata": {},
   "outputs": [
    {
     "name": "stdout",
     "output_type": "stream",
     "text": [
      "2380\n"
     ]
    }
   ],
   "source": [
    "tmp_tar = leaves[3:]\n",
    "transm.test(positions, tmp_tar)"
   ]
  }
 ],
 "metadata": {
  "kernelspec": {
   "display_name": "Python 3",
   "language": "python",
   "name": "python3"
  },
  "language_info": {
   "codemirror_mode": {
    "name": "ipython",
    "version": 3
   },
   "file_extension": ".py",
   "mimetype": "text/x-python",
   "name": "python",
   "nbconvert_exporter": "python",
   "pygments_lexer": "ipython3",
   "version": "3.8.10"
  }
 },
 "nbformat": 4,
 "nbformat_minor": 4
}
