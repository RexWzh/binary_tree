{
 "cells": [
  {
   "cell_type": "markdown",
   "metadata": {},
   "source": [
    "### 调试"
   ]
  },
  {
   "cell_type": "code",
   "execution_count": 1,
   "metadata": {},
   "outputs": [],
   "source": [
    "from btree import *\n",
    "from random import sample,randint"
   ]
  },
  {
   "cell_type": "code",
   "execution_count": 47,
   "metadata": {
    "collapsed": true
   },
   "outputs": [
    {
     "name": "stdout",
     "output_type": "stream",
     "text": [
      "\n",
      "  0\n",
      " / \\\n",
      "0   0\n",
      " 1\n",
      "\n",
      "    __0__\n",
      "   /     \\\n",
      "  0       0\n",
      " / \\     / \\\n",
      "0   0   0   0\n",
      " 2\n",
      "\n",
      "        ______0__\n",
      "       /         \\\n",
      "    __0__         0__\n",
      "   /     \\       /   \\\n",
      "  0       0     0     0\n",
      " / \\     / \\         / \\\n",
      "0   0   0   0       0   0\n",
      " 3\n",
      "\n",
      "                ______________0__\n",
      "               /                 \\\n",
      "        ______0______             0__\n",
      "       /             \\           /   \\\n",
      "    __0__           __0__       0     0\n",
      "   /     \\         /     \\           / \\\n",
      "  0       0       0       0         0   0\n",
      " / \\     / \\     / \\     / \\\n",
      "0   0   0   0   0   0   0   0\n",
      " 4\n",
      "\n",
      "                    ______________________0__\n",
      "                   /                         \\\n",
      "        __________0__________                 0__\n",
      "       /                     \\               /   \\\n",
      "    __0__                   __0______       0     0\n",
      "   /     \\                 /         \\           / \\\n",
      "  0       0__           __0         __0         0   0\n",
      " / \\     /   \\         /   \\       /   \\\n",
      "0   0   0     0       0     0     0     0\n",
      "             / \\     / \\         / \\\n",
      "            0   0   0   0       0   0\n",
      " 5\n"
     ]
    }
   ],
   "source": [
    "for i in range(5):\n",
    "    leaves = t.last_layer\n",
    "    split_num = randint(1,len(leaves))\n",
    "    split_leaves = sample(leaves,split_num)\n",
    "    for leaf in split_leaves:\n",
    "        BTree.add_left_right_to_node(leaf)\n",
    "    t._max_depth += 1\n",
    "    print(t,t.max_depth)"
   ]
  },
  {
   "cell_type": "code",
   "execution_count": 72,
   "metadata": {},
   "outputs": [],
   "source": [
    "class BTree(BTree):\n",
    "    @staticmethod\n",
    "    def random_binary_tree(depth,max_value=30)->BTree:\n",
    "        \"\"\"生成随机树，叶子取值范围为 [0,max_value]\"\"\"\n",
    "        t = BTree(0) # 初始树\n",
    "        for i in range(depth):\n",
    "            last_layer = t.last_layer # 最后一层\n",
    "            split_num = randint(1,len(last_layer)) # 随机数目\n",
    "            split_leaves = sample(last_layer,split_num) # 随机位置\n",
    "            for leaf in split_leaves:\n",
    "                BTree.add_left_right_to_node(leaf)\n",
    "            t._max_depth += 1 # 深度增加\n",
    "        for leaf in t.leaves: # 叶子节点随机值\n",
    "            leaf.value = randint(0,max_value)\n",
    "        return t\n",
    "    \n",
    "    @staticmethod\n",
    "    def tree_to_positions(tree)->list:\n",
    "        \"\"\"树转列表\"\"\"\n",
    "        depth = tree.max_depth + 1 # 树深度\n",
    "        positions = [None for i in range(2**depth-1)]\n",
    "        for node in tree:\n",
    "            positions[node.position-1]=node.value\n",
    "        return positions"
   ]
  },
  {
   "cell_type": "code",
   "execution_count": 68,
   "metadata": {
    "collapsed": true
   },
   "outputs": [
    {
     "name": "stdout",
     "output_type": "stream",
     "text": [
      "\n",
      "  _0______\n",
      " /        \\\n",
      "25       __0___\n",
      "        /      \\\n",
      "       0       _0\n",
      "      / \\     /  \\\n",
      "     5   1   28   1\n",
      "\n",
      "\n",
      "  _0______\n",
      " /        \\\n",
      "25       __0___\n",
      "        /      \\\n",
      "       0       _0\n",
      "      / \\     /  \\\n",
      "     5   1   28   1\n",
      "\n",
      "\n",
      "          _______0\n",
      "         /        \\\n",
      "     ___0___       29\n",
      "    /       \\\n",
      "  _0        _0\n",
      " /  \\      /  \\\n",
      "18   17   27   4\n",
      "\n",
      "\n",
      "          _______0\n",
      "         /        \\\n",
      "     ___0___       29\n",
      "    /       \\\n",
      "  _0        _0\n",
      " /  \\      /  \\\n",
      "18   17   27   4\n",
      "\n",
      "\n",
      "     __0_______\n",
      "    /          \\\n",
      "  _0         ___0\n",
      " /  \\       /    \\\n",
      "29   7     0      2\n",
      "          / \\\n",
      "         4   18\n",
      "\n",
      "\n",
      "     __0_______\n",
      "    /          \\\n",
      "  _0         ___0\n",
      " /  \\       /    \\\n",
      "29   7     0      2\n",
      "          / \\\n",
      "         4   18\n",
      "\n",
      "\n",
      "          _______0_______\n",
      "         /               \\\n",
      "     ___0___            __0___\n",
      "    /       \\          /      \\\n",
      "  _0        _0       _0       _0\n",
      " /  \\      /  \\     /  \\     /  \\\n",
      "11   23   21   8   14   7   10   4\n",
      "\n",
      "\n",
      "          _______0_______\n",
      "         /               \\\n",
      "     ___0___            __0___\n",
      "    /       \\          /      \\\n",
      "  _0        _0       _0       _0\n",
      " /  \\      /  \\     /  \\     /  \\\n",
      "11   23   21   8   14   7   10   4\n",
      "\n"
     ]
    }
   ],
   "source": [
    "# test\n",
    "for i in range(4):\n",
    "    tree = BTree.random_binary_tree(3)\n",
    "    positions = BTree.tree_to_positions(tree)\n",
    "    print(tree)\n",
    "    print(BTree.list_to_tree(positions))"
   ]
  },
  {
   "cell_type": "code",
   "execution_count": null,
   "metadata": {},
   "outputs": [],
   "source": [
    "def random_tree_positions(n,max_value=30)->list:\n",
    "    \"\"\"生成随机树，叶子取值范围为 [0,max_value]\"\"\"\n",
    "    tree = BTree.random_binary_tree(n-1,max_value)\n",
    "    return BTree.tree_to_positions(tree)"
   ]
  },
  {
   "cell_type": "code",
   "execution_count": 85,
   "metadata": {
    "scrolled": true
   },
   "outputs": [
    {
     "data": {
      "text/plain": [
       "[0, 27, 0, None, None, 0, 0, None, None, None, None, 15, 20, 22, 16]"
      ]
     },
     "execution_count": 85,
     "metadata": {},
     "output_type": "execute_result"
    }
   ],
   "source": [
    "random_tree_positions(3)"
   ]
  },
  {
   "cell_type": "markdown",
   "metadata": {},
   "source": [
    "### 使用"
   ]
  },
  {
   "cell_type": "code",
   "execution_count": 1,
   "metadata": {
    "scrolled": true
   },
   "outputs": [],
   "source": [
    "from btree import random_tree_positions,BTree"
   ]
  },
  {
   "cell_type": "code",
   "execution_count": 3,
   "metadata": {},
   "outputs": [
    {
     "name": "stdout",
     "output_type": "stream",
     "text": [
      "\n",
      "                            __0__\n",
      "                           /     \\\n",
      "                    ______0       0__________\n",
      "                   /       \\     /           \\\n",
      "                __0__       0   1       ______0\n",
      "               /     \\                 /       \\\n",
      "    __________0       0               0__       0\n",
      "   /           \\     / \\             /   \\\n",
      "  0______       6   6   3           9     0\n",
      " /       \\                               / \\\n",
      "5       __0                             8   3\n",
      "       /   \\\n",
      "      0     6\n",
      "     / \\\n",
      "    4   6\n",
      "\n",
      "[0, 0, 0, 0, 0, 1, 0, 0, 0, None, None, None, None, 0, 0, 0, 6, 6, 3, None, None, None, None, None, None, None, None, 9, 0, None, None, 5, 0, None, None, None, None, None, None, None, None, None, None, None, None, None, None, None, None, None, None, None, None, None, None, None, None, 8, 3, None, None, None, None, None, None, 0, 6, None, None, None, None, None, None, None, None, None, None, None, None, None, None, None, None, None, None, None, None, None, None, None, None, None, None, None, None, None, None, None, None, None, None, None, None, None, None, None, None, None, None, None, None, None, None, None, None, None, None, None, None, None, None, None, None, None, None, None, None, None, None, None, None, 4, 6, None, None, None, None, None, None, None, None, None, None, None, None, None, None, None, None, None, None, None, None, None, None, None, None, None, None, None, None, None, None, None, None, None, None, None, None, None, None, None, None, None, None, None, None, None, None, None, None, None, None, None, None, None, None, None, None, None, None, None, None, None, None, None, None, None, None, None, None, None, None, None, None, None, None, None, None, None, None, None, None, None, None, None, None, None, None, None, None, None, None, None, None, None, None, None, None, None, None, None, None, None, None, None, None, None, None, None, None, None, None, None, None, None, None, None, None, None, None, None, None, None, None]\n"
     ]
    }
   ],
   "source": [
    "positions = random_tree_positions(8,10)\n",
    "print(BTree.list_to_tree(positions))\n",
    "print(positions)"
   ]
  },
  {
   "cell_type": "code",
   "execution_count": null,
   "metadata": {},
   "outputs": [],
   "source": []
  }
 ],
 "metadata": {
  "kernelspec": {
   "display_name": "Python 3",
   "language": "python",
   "name": "python3"
  },
  "language_info": {
   "codemirror_mode": {
    "name": "ipython",
    "version": 3
   },
   "file_extension": ".py",
   "mimetype": "text/x-python",
   "name": "python",
   "nbconvert_exporter": "python",
   "pygments_lexer": "ipython3",
   "version": "3.8.10"
  }
 },
 "nbformat": 4,
 "nbformat_minor": 4
}
