{
 "cells": [
  {
   "cell_type": "markdown",
   "metadata": {},
   "source": [
    "## 修改内容"
   ]
  },
  {
   "cell_type": "markdown",
   "metadata": {
    "heading_collapsed": true
   },
   "source": [
    "### 函数调试"
   ]
  },
  {
   "cell_type": "code",
   "execution_count": 3,
   "metadata": {
    "hidden": true
   },
   "outputs": [],
   "source": [
    "from btree import *"
   ]
  },
  {
   "cell_type": "raw",
   "metadata": {
    "hidden": true
   },
   "source": [
    "关键修改：获取某层“需要展开”的节点，用字典表示"
   ]
  },
  {
   "cell_type": "code",
   "execution_count": 7,
   "metadata": {
    "collapsed": true,
    "hidden": true
   },
   "outputs": [
    {
     "name": "stdout",
     "output_type": "stream",
     "text": [
      "\n",
      "                        ______________________________0\n",
      "                       /                               \\\n",
      "               _______0__                               0\n",
      "              /          \\\n",
      "          ___0___         0______________________\n",
      "         /       \\       /                       \\\n",
      "     ___0        _0     0                 ________0\n",
      "    /    \\      /  \\                     /         \\\n",
      "  _0      35   40   0                ___0___        0\n",
      " /  \\                               /       \\\n",
      "10   20                          __0        _0\n",
      "                                /   \\      /  \\\n",
      "                              _0     50   20   10\n",
      "                             /  \\\n",
      "                            10   5\n",
      "\n",
      "\n",
      "                          ________________________________________1\n",
      "                         /                                         \\\n",
      "                ________2___                                        3\n",
      "               /            \\\n",
      "           ___4___          _5_____________________________\n",
      "          /       \\        /                               \\\n",
      "     ____8        _9      10                      __________11\n",
      "    /     \\      /  \\                            /            \\\n",
      "  _16      17   18   19                     ____22___          23\n",
      " /   \\                                     /         \\\n",
      "32    33                             _____44         _45\n",
      "                                    /       \\       /   \\\n",
      "                                  _88_       89    90    91\n",
      "                                 /    \\\n",
      "                               176    177\n",
      "\n"
     ]
    },
    {
     "data": {
      "text/plain": [
       "({1: 200,\n",
       "  2: 200,\n",
       "  4: 105,\n",
       "  5: 95,\n",
       "  8: 65,\n",
       "  9: 40,\n",
       "  11: 95,\n",
       "  16: 30,\n",
       "  22: 95,\n",
       "  44: 65,\n",
       "  45: 30,\n",
       "  88: 15},\n",
       " {17: 35, 18: 40, 32: 10, 33: 20, 89: 50, 90: 20, 91: 10, 176: 10, 177: 5})"
      ]
     },
     "execution_count": 7,
     "metadata": {},
     "output_type": "execute_result"
    }
   ],
   "source": [
    "def get_nodes_cost(tree) -> (dict,dict):\n",
    "    \"\"\"获取节点的开销信息，只记录非0节点\"\"\"\n",
    "    nonleaf_cost = {} # 非叶开销\n",
    "    leaf_cost = {} # 叶节点开销\n",
    "    for node in tree:\n",
    "        if node.left is None: # 叶节点\n",
    "            if node.value: \n",
    "                leaf_cost[node.position] = node.value\n",
    "        else: # 非叶节点\n",
    "            v = sum(leaf.value for leaf in node.leaves)\n",
    "            if v: nonleaf_cost[node.position] = v\n",
    "    return nonleaf_cost,leaf_cost\n",
    "\n",
    "# 测试函数\n",
    "print(old)\n",
    "print(old.position_tree)\n",
    "get_nodes_cost(old)"
   ]
  },
  {
   "cell_type": "code",
   "execution_count": 8,
   "metadata": {
    "hidden": true
   },
   "outputs": [
    {
     "data": {
      "text/plain": [
       "200"
      ]
     },
     "execution_count": 8,
     "metadata": {},
     "output_type": "execute_result"
    }
   ],
   "source": [
    "sum(node.value for node in old.leaves)"
   ]
  },
  {
   "cell_type": "code",
   "execution_count": 3,
   "metadata": {
    "hidden": true
   },
   "outputs": [],
   "source": [
    "class BTree(BTree):\n",
    "    def new_tree_by_positions(self,positions):\n",
    "        \"\"\"最后一层按位置展开 -> 新树\"\"\"\n",
    "        tree = deepcopy(self) # 复制对象\n",
    "        for node in tree.last_layer: # 最后一层\n",
    "            if node.position in positions:\n",
    "                self.add_left_right_to_node(node) # 展开\n",
    "        tree._max_depth += 1 # 总深度+1\n",
    "        return tree"
   ]
  },
  {
   "cell_type": "code",
   "execution_count": 15,
   "metadata": {
    "code_folding": [],
    "hidden": true
   },
   "outputs": [],
   "source": [
    "n = 8\n",
    "positions = [None for i in range(2**n)] # 旧树\n",
    "pos = [1, \n",
    "       2,3, \n",
    "       4,5, \n",
    "       8,9,10,11, \n",
    "       16,17,18,19,22,23,\n",
    "       32,33,44,45,\n",
    "       88,89,90,91,\n",
    "       176,177]\n",
    "value = [0,\n",
    "        0,0,\n",
    "        0,0,\n",
    "        0,0,0,0,\n",
    "        0,35,40,0,0,0,\n",
    "        10,20,0,0,\n",
    "        0,50,20,10,\n",
    "        10,5]\n",
    "for p,v in zip(pos,value):\n",
    "    positions[p-1] = v\n",
    "old = BTree.list_to_tree(positions)\n",
    "nonleaf_cost,leaf_cost = get_nodes_cost(old) # 节点开销信息"
   ]
  },
  {
   "cell_type": "code",
   "execution_count": 16,
   "metadata": {
    "hidden": true
   },
   "outputs": [],
   "source": [
    "leaves = [0,0,2,0,3,2,3,26]\n",
    "nonleaves = leaves_to_nonleaves(leaves)"
   ]
  },
  {
   "cell_type": "code",
   "execution_count": 17,
   "metadata": {
    "hidden": true
   },
   "outputs": [],
   "source": [
    "root = BTree(0)\n",
    "root.cost = 0 # 初始开销\n",
    "min_cost = sum(leaf_cost.values()) # 最小开销\n",
    "optimal = None # 最优解\n",
    "tmp_trees = [root] # 待遍历集合"
   ]
  },
  {
   "cell_type": "code",
   "execution_count": 18,
   "metadata": {
    "hidden": true
   },
   "outputs": [],
   "source": [
    "# 递归开始\n",
    "tree = tmp_trees[0] # 取最小开销树\n",
    "tmp_trees = tmp_trees[1:]\n",
    "k = tree.max_depth # 总层数\n",
    "ak = nonleaves[k] # 要展开的节点数（不能为0）\n",
    "assert ak,\"展开数不能为0\"\n",
    "\n",
    "# 三种类型节点\n",
    "sep,not_sep,whatever = [],[],[]\n",
    "for node in tree.last_layer:\n",
    "    if node.position in nonleaf_cost:\n",
    "        sep.append(node.position)\n",
    "    elif node.position in leaf_cost:\n",
    "        not_sep.append(node.position)\n",
    "    else:\n",
    "        whatever.append(node.position)\n",
    "\n",
    "# 产生新树\n",
    "news = []\n",
    "if ak < len(sep): # 展开少，取 sep 子集，增加未取部分开销\n",
    "    for choice in choose(sep,ak):\n",
    "        new = tree.new_tree_by_positions(choice)\n",
    "        new.cost += sum(nonleaf_cost[i] for i in sep if i not in choice)\n",
    "        news.append(new)\n",
    "elif len(sep) <= ak <= len(sep)+len(whatever): # 展开适中，不增加开销\n",
    "    choice = sep + whatever[:ak-len(sep)]\n",
    "    news = [tree.new_tree_by_positions(choice)]\n",
    "else: # 展开多，取 not_sep 子集，增加选取部分开销\n",
    "    for choice in choose(not_sep,ak-len(sep)-len(whatever)):\n",
    "        new = tree.new_tree_by_positions(sep+whatever+choice)\n",
    "        new.cost += sum(leaf_cost[i] for i in choice)\n",
    "        news.append(new)\n",
    "# 处理新树\n",
    "if nonleaves[k+1]==0: # 树已完全展开\n",
    "    if k+2<n: # 剩下节点合并\n",
    "        for new in news:\n",
    "            new.cost += sum(nonleaf_cost.get(node.position,0) for node in new.last_layer)\n",
    "    for new in news:\n",
    "        if new.cost < min_cost:\n",
    "            min_cost = new.cost\n",
    "            optimal = new\n",
    "            tmp_trees = [tree for tree in tmp_trees if tree.cost<= min_cost]\n",
    "else: # 还有非叶节点\n",
    "    tmp_trees.extend(news) # 加入新结果\n",
    "    tmp_trees.sort(key=lambda x:x.cost-x.depth) # 排序"
   ]
  },
  {
   "cell_type": "code",
   "execution_count": 13,
   "metadata": {
    "hidden": true
   },
   "outputs": [
    {
     "data": {
      "text/plain": [
       "0"
      ]
     },
     "execution_count": 13,
     "metadata": {},
     "output_type": "execute_result"
    }
   ],
   "source": [
    "a = {1:2,2:3}\n",
    "a.get(4,0)"
   ]
  },
  {
   "cell_type": "markdown",
   "metadata": {
    "heading_collapsed": true
   },
   "source": [
    "### 测试"
   ]
  },
  {
   "cell_type": "code",
   "execution_count": 19,
   "metadata": {
    "code_folding": [
     2,
     10
    ],
    "hidden": true
   },
   "outputs": [],
   "source": [
    "n = 8\n",
    "positions = [None for i in range(2**n)] # 旧树\n",
    "pos = [1, \n",
    "       2,3, \n",
    "       4,5, \n",
    "       8,9,10,11, \n",
    "       16,17,18,19,22,23,\n",
    "       32,33,44,45,\n",
    "       88,89,90,91,\n",
    "       176,177]\n",
    "value = [0,\n",
    "        0,0,\n",
    "        0,0,\n",
    "        0,0,0,0,\n",
    "        0,35,40,0,0,0,\n",
    "        10,20,0,0,\n",
    "        0,50,20,10,\n",
    "        10,5]\n",
    "for p,v in zip(pos,value):\n",
    "    positions[p-1] = v\n",
    "old = BTree.list_to_tree(positions)\n",
    "nonleaf_cost,leaf_cost = get_nodes_cost(old) # 节点开销信息\n",
    "leaves = [0,0,2,0,3,2,3,26]\n",
    "nonleaves = leaves_to_nonleaves(leaves)\n",
    "root = BTree(0)\n",
    "root.cost = 0 # 初始开销\n",
    "min_cost = sum(leaf_cost.values()) # 最小开销\n",
    "optimal = None # 最优解\n",
    "tmp_trees = [root] # 待遍历集合\n",
    "while len(tmp_trees):\n",
    "    tree = tmp_trees[0] # 取最小开销树\n",
    "    tmp_trees = tmp_trees[1:]\n",
    "    k = tree.max_depth # 总层数\n",
    "    ak = nonleaves[k] # 要展开的节点数（不能为0）\n",
    "    assert ak,\"展开数不能为0\"\n",
    "    # 三种类型节点\n",
    "    sep,not_sep,whatever = [],[],[]\n",
    "    for node in tree.last_layer:\n",
    "        if node.position in nonleaf_cost:\n",
    "            sep.append(node.position)\n",
    "        elif node.position in leaf_cost:\n",
    "            not_sep.append(node.position)\n",
    "        else:\n",
    "            whatever.append(node.position)\n",
    "    # 产生新树\n",
    "    news = []\n",
    "    if ak < len(sep): # 展开少，取 sep 子集，增加未取部分开销\n",
    "        for choice in choose(sep,ak):\n",
    "            new = tree.new_tree_by_positions(choice)\n",
    "            new.cost += sum(nonleaf_cost[i] for i in sep if i not in choice)\n",
    "            news.append(new)\n",
    "    elif len(sep) <= ak <= len(sep)+len(whatever): # 展开适中，不增加开销\n",
    "        choice = sep + whatever[:ak-len(sep)]\n",
    "        news = [tree.new_tree_by_positions(choice)]\n",
    "    else: # 展开多，取 not_sep 子集，增加选取部分开销\n",
    "        for choice in choose(not_sep,ak-len(sep)-len(whatever)):\n",
    "            new = tree.new_tree_by_positions(sep+whatever+choice)\n",
    "            new.cost += sum(leaf_cost[i] for i in choice)\n",
    "            news.append(new)\n",
    "    # 处理新树\n",
    "    if nonleaves[k+1]==0: # 树已完全展开\n",
    "        if k+2<n: # 剩下节点合并\n",
    "            for new in news:\n",
    "                new.cost += sum(nonleaf_cost.get(node.position,0) for node in new.last_layer)\n",
    "        for new in news:\n",
    "            if new.cost < min_cost:\n",
    "                min_cost = new.cost\n",
    "                optimal = new\n",
    "                tmp_trees = [tree for tree in tmp_trees if tree.cost<= min_cost]\n",
    "    else: # 树不完整\n",
    "        tmp_trees.extend(news) # 加入新结果\n",
    "        tmp_trees.sort(key=lambda x:x.cost-x.depth) # 排序"
   ]
  },
  {
   "cell_type": "markdown",
   "metadata": {},
   "source": [
    "### 函数汇总"
   ]
  },
  {
   "cell_type": "code",
   "execution_count": null,
   "metadata": {},
   "outputs": [],
   "source": [
    "from btree import *"
   ]
  },
  {
   "cell_type": "code",
   "execution_count": null,
   "metadata": {},
   "outputs": [],
   "source": [
    "class BTree(BTree):\n",
    "    def new_tree_by_positions(self,positions):\n",
    "        \"\"\"最后一层按位置展开 -> 新树\"\"\"\n",
    "        tree = deepcopy(self) # 复制对象\n",
    "        for node in tree.last_layer: # 最后一层\n",
    "            if node.position in positions:\n",
    "                self.add_left_right_to_node(node) # 展开\n",
    "        tree._max_depth += 1 # 总深度+1\n",
    "        return tree"
   ]
  },
  {
   "cell_type": "code",
   "execution_count": null,
   "metadata": {
    "code_folding": [
     5
    ]
   },
   "outputs": [],
   "source": [
    "def get_nodes_cost(tree) -> (dict,dict):\n",
    "    \"\"\"获取节点的开销信息，只记录非0节点\"\"\"\n",
    "    nonleaf_cost = {} # 非叶开销\n",
    "    leaf_cost = {} # 叶节点开销\n",
    "    for node in tree:\n",
    "        if node.left is None: # 叶节点\n",
    "            if node.value: \n",
    "                leaf_cost[node.position] = node.value\n",
    "        else: # 非叶节点\n",
    "            v = sum(leaf.value for leaf in node.leaves)\n",
    "            if v: nonleaf_cost[node.position] = v\n",
    "    return nonleaf_cost,leaf_cost"
   ]
  },
  {
   "cell_type": "code",
   "execution_count": null,
   "metadata": {},
   "outputs": [],
   "source": [
    "def get_operations(old,new) -> (\"sep\",\"com\"):\n",
    "    \"\"\"获取变动信息：(拆分, 合并)\"\"\"\n",
    "    f = lambda a,b,c:a.difference(b).intersection(c)\n",
    "    old_leaves = set(node.position for node in old.leaves)\n",
    "    new_leaves = set(node.position for node in new.leaves)\n",
    "    old_nodes = set(node.position for node in old)\n",
    "    new_nodes = set(node.position for node in new)\n",
    "    sep = f(new_nodes,new_leaves,old_leaves)\n",
    "    com = f(old_nodes,old_leaves,new_leaves)\n",
    "    return sep,com"
   ]
  },
  {
   "cell_type": "code",
   "execution_count": 22,
   "metadata": {
    "code_folding": [
     2,
     10
    ]
   },
   "outputs": [],
   "source": [
    "n = 8\n",
    "positions = [None for i in range(2**n)] # 旧树\n",
    "pos = [1, \n",
    "       2,3, \n",
    "       4,5, \n",
    "       8,9,10,11, \n",
    "       16,17,18,19,22,23,\n",
    "       32,33,44,45,\n",
    "       88,89,90,91,\n",
    "       176,177]\n",
    "value = [0,\n",
    "        0,0,\n",
    "        0,0,\n",
    "        0,0,0,0,\n",
    "        0,35,40,0,0,0,\n",
    "        10,20,0,0,\n",
    "        0,50,20,10,\n",
    "        10,5]\n",
    "for p,v in zip(pos,value):\n",
    "    positions[p-1] = v\n",
    "leaves = [0,0,2,0,3,2,3,26]\n",
    "\n",
    "def main(positions,leaves):\n",
    "    old = BTree.list_to_tree(positions)\n",
    "    nonleaf_cost,leaf_cost = get_nodes_cost(old) # 节点开销信息\n",
    "    nonleaves = leaves_to_nonleaves(leaves)\n",
    "    root = BTree(0)\n",
    "    root.cost = 0 # 初始开销\n",
    "    min_cost = sum(leaf_cost.values()) # 最小开销\n",
    "    optimal = None # 最优解\n",
    "    tmp_trees = [root] # 待遍历集合\n",
    "    while len(tmp_trees):\n",
    "        tree = tmp_trees[0] # 取最小开销树\n",
    "        tmp_trees = tmp_trees[1:]\n",
    "        news,is_end = next_level(tree,nonleaves,nonleaf_cost,leaf_cost)\n",
    "        # 处理新树\n",
    "        if is_end: # 树已完全展开\n",
    "            for new in news:\n",
    "                if new.cost < min_cost:\n",
    "                    min_cost,optimal = new.cost,new\n",
    "                    tmp_trees = [tree for tree in tmp_trees if tree.cost<= min_cost]\n",
    "        else: # 树不完整\n",
    "            tmp_trees.extend(news) # 加入新结果\n",
    "            tmp_trees.sort(key=lambda x:x.cost-x.depth) # 排序\n",
    "    return optimal,min_cost"
   ]
  },
  {
   "cell_type": "code",
   "execution_count": null,
   "metadata": {},
   "outputs": [],
   "source": [
    "def next_level(tree,nonleaves,nonleaf_cost,leaf_cost):\n",
    "    \"\"\"生成下一层树\"\"\"\n",
    "    news,is_end = [],False\n",
    "    k,n = tree.max_depth,len(nonleaves)\n",
    "    ak = nonleaves[k]\n",
    "    assert ak,\"展开数不能为0\"\n",
    "    # 三类节点\n",
    "    sep,not_sep,whatever = [],[],[]\n",
    "    for node in tree.last_layer:\n",
    "        if node.position in nonleaf_cost:\n",
    "            sep.append(node.position)\n",
    "        elif node.position in leaf_cost:\n",
    "            not_sep.append(node.position)\n",
    "        else:\n",
    "            whatever.append(node.position)\n",
    "    # 产生新树\n",
    "    if ak < len(sep): # 展开少，取 sep 子集，增加未取部分开销\n",
    "        for choice in choose(sep,ak):\n",
    "            new = tree.new_tree_by_positions(choice)\n",
    "            new.cost += sum(nonleaf_cost[i] for i in sep if i not in choice)\n",
    "            news.append(new)\n",
    "    elif len(sep) <= ak <= len(sep)+len(whatever): # 展开适中，不增加开销\n",
    "        choice = sep + whatever[:ak-len(sep)]\n",
    "        news = [tree.new_tree_by_positions(choice)]\n",
    "    else: # 展开多，取 not_sep 子集，增加选取部分开销\n",
    "        for choice in choose(not_sep,ak-len(sep)-len(whatever)):\n",
    "            new = tree.new_tree_by_positions(sep+whatever+choice)\n",
    "            new.cost += sum(leaf_cost[i] for i in choice)\n",
    "            news.append(new)\n",
    "    if nonleaves[k+1]==0:\n",
    "        is_end = True\n",
    "        if k+2<n: # 剩下节点合并\n",
    "            for new in news:\n",
    "                new.cost += sum(nonleaf_cost.get(node.position,0) for node in new.last_layer)\n",
    "    return news,is_end"
   ]
  },
  {
   "cell_type": "markdown",
   "metadata": {},
   "source": [
    "### 调试"
   ]
  },
  {
   "cell_type": "code",
   "execution_count": 48,
   "metadata": {
    "code_folding": []
   },
   "outputs": [],
   "source": [
    "n = 8\n",
    "positions = [None for i in range(2**n-1)]\n",
    "pos = [1, \n",
    "       2,3, \n",
    "       4,5, \n",
    "       8,9,10,11, \n",
    "       16,17,22,23, \n",
    "       32,33,34,35,46,47,\n",
    "       68,69,70,71,\n",
    "       136,137,138,139,142,143]\n",
    "value = [0,\n",
    "        0,10,\n",
    "        0,0,\n",
    "        0,20,5,0,\n",
    "        0,0,7,0,\n",
    "        10,20,0,0,0,6,\n",
    "        0,0,5,0,\n",
    "        10,6,3,10,7,2]\n",
    "for p,v in zip(pos,value):\n",
    "    positions[p-1] = v\n",
    "old = BTree.list_to_tree(positions)"
   ]
  },
  {
   "cell_type": "code",
   "execution_count": 49,
   "metadata": {
    "collapsed": true
   },
   "outputs": [
    {
     "name": "stdout",
     "output_type": "stream",
     "text": [
      "\n",
      "                                                      __________________________1________\n",
      "                                                     /                                   \\\n",
      "                                                  __2___                               ___3___\n",
      "                                                 /      \\                             /       \\\n",
      "           _____________________________________4       _5___                       _6        _7\n",
      "          /                                      \\     /     \\                     /  \\      /  \\\n",
      "     ____8_________________________               9   10     _11_________         12   13   14   15\n",
      "    /                              \\                        /            \\\n",
      "  _16                   ____________17___                  22         ____23\n",
      " /   \\                 /                 \\                           /      \\\n",
      "32    33         _____34____             _35                       _46       47\n",
      "                /           \\           /   \\                     /   \\\n",
      "              _68_          _69_       70    71                  92    93\n",
      "             /    \\        /    \\\n",
      "           136    137    138    139\n",
      "\n",
      "\n",
      "                                                              ____________________1\n",
      "                                                             /                     \\\n",
      "                                                          __2___                    3\n",
      "                                                         /      \\\n",
      "           _____________________________________________4       _5___\n",
      "          /                                              \\     /     \\\n",
      "     ____8_________________________                       9   10     _11___\n",
      "    /                              \\                                /      \\\n",
      "  _16                   ____________17___                          22      _23\n",
      " /   \\                 /                 \\                                /   \\\n",
      "32    33         _____34____             _35____                         46    47\n",
      "                /           \\           /       \\\n",
      "              _68_          _69_       70       _71_\n",
      "             /    \\        /    \\              /    \\\n",
      "           136    137    138    139          142    143\n",
      "\n",
      "({3, 46}, {71}) 19\n",
      "\n",
      "                                             ______________0\n",
      "                                            /               \\\n",
      "                                        ___0__               10\n",
      "                                       /      \\\n",
      "          ____________________________0        0__\n",
      "         /                             \\      /   \\\n",
      "     ___0________________               20   5     0__\n",
      "    /                    \\                        /   \\\n",
      "  _0               _______0__                    7     0\n",
      " /  \\             /          \\                        / \\\n",
      "10   20        __0__          0__                    0   6\n",
      "              /     \\        /   \\\n",
      "            _0       0      5     0\n",
      "           /  \\     / \\          / \\\n",
      "          10   6   3   10       7   2\n",
      "\n"
     ]
    }
   ],
   "source": [
    "nonleaves = [1,2,4,2,3,3,2,0]\n",
    "leaves = nonleaves2leaves(nonleaves)\n",
    "optimal,cost = main(positions,leaves)\n",
    "print(optimal.position_tree)\n",
    "print(old.position_tree)\n",
    "print(get_operations(old,optimal),cost)\n",
    "print(old)"
   ]
  },
  {
   "cell_type": "code",
   "execution_count": 50,
   "metadata": {
    "collapsed": true
   },
   "outputs": [
    {
     "name": "stdout",
     "output_type": "stream",
     "text": [
      "\n",
      "                                        ______________1________\n",
      "                                       /                       \\\n",
      "                                    __2___                   ___3\n",
      "                                   /      \\                 /    \\\n",
      "     _____________________________4       _5___           _6      7\n",
      "    /                              \\     /     \\         /  \\\n",
      "  _8_________________               9   10     _11      12   13\n",
      " /                   \\                        /   \\\n",
      "16                ____17___                  22    23\n",
      "                 /         \\\n",
      "           _____34         _35\n",
      "          /       \\       /   \\\n",
      "        _68_       69    70    71\n",
      "       /    \\\n",
      "     136    137\n",
      "\n",
      "\n",
      "                                                              ____________________1\n",
      "                                                             /                     \\\n",
      "                                                          __2___                    3\n",
      "                                                         /      \\\n",
      "           _____________________________________________4       _5___\n",
      "          /                                              \\     /     \\\n",
      "     ____8_________________________                       9   10     _11___\n",
      "    /                              \\                                /      \\\n",
      "  _16                   ____________17___                          22      _23\n",
      " /   \\                 /                 \\                                /   \\\n",
      "32    33         _____34____             _35____                         46    47\n",
      "                /           \\           /       \\\n",
      "              _68_          _69_       70       _71_\n",
      "             /    \\        /    \\              /    \\\n",
      "           136    137    138    139          142    143\n",
      "\n",
      "({3}, {16, 23, 69, 71}) 68\n",
      "\n",
      "                                             ______________0\n",
      "                                            /               \\\n",
      "                                        ___0__               10\n",
      "                                       /      \\\n",
      "          ____________________________0        0__\n",
      "         /                             \\      /   \\\n",
      "     ___0________________               20   5     0__\n",
      "    /                    \\                        /   \\\n",
      "  _0               _______0__                    7     0\n",
      " /  \\             /          \\                        / \\\n",
      "10   20        __0__          0__                    0   6\n",
      "              /     \\        /   \\\n",
      "            _0       0      5     0\n",
      "           /  \\     / \\          / \\\n",
      "          10   6   3   10       7   2\n",
      "\n"
     ]
    }
   ],
   "source": [
    "nonleaves = [1,2,3,2,1,2,1,0]\n",
    "leaves = nonleaves2leaves(nonleaves)\n",
    "optimal,cost = main(positions,leaves)\n",
    "print(optimal.position_tree)\n",
    "print(old.position_tree)\n",
    "print(get_operations(old,optimal),cost)\n",
    "print(old)"
   ]
  }
 ],
 "metadata": {
  "kernelspec": {
   "display_name": "Python 3",
   "language": "python",
   "name": "python3"
  },
  "language_info": {
   "codemirror_mode": {
    "name": "ipython",
    "version": 3
   },
   "file_extension": ".py",
   "mimetype": "text/x-python",
   "name": "python",
   "nbconvert_exporter": "python",
   "pygments_lexer": "ipython3",
   "version": "3.8.10"
  }
 },
 "nbformat": 4,
 "nbformat_minor": 4
}
