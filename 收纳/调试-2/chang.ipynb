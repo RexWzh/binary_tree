{
 "cells": [
  {
   "cell_type": "markdown",
   "metadata": {},
   "source": [
    "## 修改内容"
   ]
  },
  {
   "cell_type": "markdown",
   "metadata": {
    "heading_collapsed": true
   },
   "source": [
    "### 函数调试"
   ]
  },
  {
   "cell_type": "code",
   "execution_count": 1,
   "metadata": {
    "hidden": true
   },
   "outputs": [],
   "source": [
    "from btree import *"
   ]
  },
  {
   "cell_type": "raw",
   "metadata": {
    "hidden": true
   },
   "source": [
    "关键修改：获取某层“需要展开”的节点，用字典表示"
   ]
  },
  {
   "cell_type": "code",
   "execution_count": 7,
   "metadata": {
    "collapsed": true,
    "hidden": true
   },
   "outputs": [
    {
     "name": "stdout",
     "output_type": "stream",
     "text": [
      "\n",
      "                        ______________________________0\n",
      "                       /                               \\\n",
      "               _______0__                               0\n",
      "              /          \\\n",
      "          ___0___         0______________________\n",
      "         /       \\       /                       \\\n",
      "     ___0        _0     0                 ________0\n",
      "    /    \\      /  \\                     /         \\\n",
      "  _0      35   40   0                ___0___        0\n",
      " /  \\                               /       \\\n",
      "10   20                          __0        _0\n",
      "                                /   \\      /  \\\n",
      "                              _0     50   20   10\n",
      "                             /  \\\n",
      "                            10   5\n",
      "\n",
      "\n",
      "                          ________________________________________1\n",
      "                         /                                         \\\n",
      "                ________2___                                        3\n",
      "               /            \\\n",
      "           ___4___          _5_____________________________\n",
      "          /       \\        /                               \\\n",
      "     ____8        _9      10                      __________11\n",
      "    /     \\      /  \\                            /            \\\n",
      "  _16      17   18   19                     ____22___          23\n",
      " /   \\                                     /         \\\n",
      "32    33                             _____44         _45\n",
      "                                    /       \\       /   \\\n",
      "                                  _88_       89    90    91\n",
      "                                 /    \\\n",
      "                               176    177\n",
      "\n"
     ]
    },
    {
     "data": {
      "text/plain": [
       "({1: 200,\n",
       "  2: 200,\n",
       "  4: 105,\n",
       "  5: 95,\n",
       "  8: 65,\n",
       "  9: 40,\n",
       "  11: 95,\n",
       "  16: 30,\n",
       "  22: 95,\n",
       "  44: 65,\n",
       "  45: 30,\n",
       "  88: 15},\n",
       " {17: 35, 18: 40, 32: 10, 33: 20, 89: 50, 90: 20, 91: 10, 176: 10, 177: 5})"
      ]
     },
     "execution_count": 7,
     "metadata": {},
     "output_type": "execute_result"
    }
   ],
   "source": [
    "def get_nodes_cost(tree) -> (dict,dict):\n",
    "    \"\"\"获取节点的开销信息，只记录非0节点\"\"\"\n",
    "    nonleaf_cost = {} # 非叶开销\n",
    "    leaf_cost = {} # 叶节点开销\n",
    "    for node in tree:\n",
    "        if node.left is None: # 叶节点\n",
    "            if node.value: \n",
    "                leaf_cost[node.position] = node.value\n",
    "        else: # 非叶节点\n",
    "            v = sum(leaf.value for leaf in node.leaves)\n",
    "            if v: nonleaf_cost[node.position] = v\n",
    "    return nonleaf_cost,leaf_cost\n",
    "\n",
    "# 测试函数\n",
    "old = BTree.list_to_tree(positions)\n",
    "print(old)\n",
    "print(old.position_tree())\n",
    "get_nodes_cost(old)"
   ]
  },
  {
   "cell_type": "code",
   "execution_count": 3,
   "metadata": {
    "hidden": true
   },
   "outputs": [],
   "source": [
    "class BTree(BTree):\n",
    "    def new_tree_by_positions(self,positions):\n",
    "        \"\"\"最后一层按位置展开 -> 新树\"\"\"\n",
    "        tree = deepcopy(self) # 复制对象\n",
    "        for node in tree.last_layer: # 最后一层\n",
    "            if node.position in positions:\n",
    "                self.add_left_right_to_node(node) # 展开\n",
    "        tree._max_depth += 1 # 总深度+1\n",
    "        return tree"
   ]
  },
  {
   "cell_type": "code",
   "execution_count": 54,
   "metadata": {
    "code_folding": [
     2,
     10
    ],
    "hidden": true
   },
   "outputs": [],
   "source": [
    "n = 8\n",
    "positions = [None for i in range(2**n)] # 旧树\n",
    "pos = [1, \n",
    "       2,3, \n",
    "       4,5, \n",
    "       8,9,10,11, \n",
    "       16,17,18,19,22,23,\n",
    "       32,33,44,45,\n",
    "       88,89,90,91,\n",
    "       176,177]\n",
    "value = [0,\n",
    "        0,0,\n",
    "        0,0,\n",
    "        0,0,0,0,\n",
    "        0,35,40,0,0,0,\n",
    "        10,20,0,0,\n",
    "        0,50,20,10,\n",
    "        10,5]\n",
    "for p,v in zip(pos,value):\n",
    "    positions[p-1] = v\n",
    "old = BTree.list_to_tree(positions)\n",
    "nonleaf_cost,leaf_cost = get_nodes_cost(old) # 节点开销信息"
   ]
  },
  {
   "cell_type": "code",
   "execution_count": 55,
   "metadata": {
    "hidden": true
   },
   "outputs": [],
   "source": [
    "leaves = [0,0,2,0,3,2,3,26]\n",
    "nonleaves = leaves_to_nonleaves(leaves)"
   ]
  },
  {
   "cell_type": "code",
   "execution_count": 56,
   "metadata": {
    "hidden": true
   },
   "outputs": [],
   "source": [
    "root = BTree(0)\n",
    "root.cost = 0 # 初始开销\n",
    "min_cost = sum(leaf_cost.values()) # 最小开销\n",
    "optimal = None # 最优解\n",
    "tmp_trees = [root] # 待遍历集合"
   ]
  },
  {
   "cell_type": "code",
   "execution_count": 64,
   "metadata": {
    "collapsed": true,
    "hidden": true
   },
   "outputs": [
    {
     "ename": "IndexError",
     "evalue": "list index out of range",
     "output_type": "error",
     "traceback": [
      "\u001b[0;31m---------------------------------------------------------------------------\u001b[0m",
      "\u001b[0;31mIndexError\u001b[0m                                Traceback (most recent call last)",
      "\u001b[0;32m<ipython-input-64-21e801db2ff4>\u001b[0m in \u001b[0;36m<module>\u001b[0;34m\u001b[0m\n\u001b[1;32m      1\u001b[0m \u001b[0;31m# 递归开始\u001b[0m\u001b[0;34m\u001b[0m\u001b[0;34m\u001b[0m\u001b[0;34m\u001b[0m\u001b[0m\n\u001b[0;32m----> 2\u001b[0;31m \u001b[0mtree\u001b[0m \u001b[0;34m=\u001b[0m \u001b[0mtmp_trees\u001b[0m\u001b[0;34m[\u001b[0m\u001b[0;36m0\u001b[0m\u001b[0;34m]\u001b[0m \u001b[0;31m# 取最小开销树\u001b[0m\u001b[0;34m\u001b[0m\u001b[0;34m\u001b[0m\u001b[0m\n\u001b[0m\u001b[1;32m      3\u001b[0m \u001b[0mtmp_trees\u001b[0m \u001b[0;34m=\u001b[0m \u001b[0mtmp_trees\u001b[0m\u001b[0;34m[\u001b[0m\u001b[0;36m1\u001b[0m\u001b[0;34m:\u001b[0m\u001b[0;34m]\u001b[0m\u001b[0;34m\u001b[0m\u001b[0;34m\u001b[0m\u001b[0m\n\u001b[1;32m      4\u001b[0m \u001b[0mk\u001b[0m \u001b[0;34m=\u001b[0m \u001b[0mtree\u001b[0m\u001b[0;34m.\u001b[0m\u001b[0mmax_depth\u001b[0m \u001b[0;31m# 总层数\u001b[0m\u001b[0;34m\u001b[0m\u001b[0;34m\u001b[0m\u001b[0m\n\u001b[1;32m      5\u001b[0m \u001b[0mak\u001b[0m \u001b[0;34m=\u001b[0m \u001b[0mnonleaves\u001b[0m\u001b[0;34m[\u001b[0m\u001b[0mk\u001b[0m\u001b[0;34m]\u001b[0m \u001b[0;31m# 要展开的节点数（不能为0）\u001b[0m\u001b[0;34m\u001b[0m\u001b[0;34m\u001b[0m\u001b[0m\n",
      "\u001b[0;31mIndexError\u001b[0m: list index out of range"
     ]
    }
   ],
   "source": [
    "# 递归开始\n",
    "tree = tmp_trees[0] # 取最小开销树\n",
    "tmp_trees = tmp_trees[1:]\n",
    "k = tree.max_depth # 总层数\n",
    "ak = nonleaves[k] # 要展开的节点数（不能为0）\n",
    "assert ak,\"展开数不能为0\"\n",
    "\n",
    "# 三种类型节点\n",
    "sep,not_sep,whatever = [],[],[]\n",
    "for node in tree.last_layer:\n",
    "    if node.position in nonleaf_cost:\n",
    "        sep.append(node.position)\n",
    "    elif node.position in leaf_cost:\n",
    "        not_sep.append(node.position)\n",
    "    else:\n",
    "        whatever.append(node.position)\n",
    "\n",
    "# 产生新树\n",
    "news = []\n",
    "if ak < len(sep): # 展开少，取 sep 子集，增加未取部分开销\n",
    "    for choice in choose(sep,ak):\n",
    "        new = tree.new_tree_by_positions(choice)\n",
    "        new.cost += sum(nonleaf_cost[i] for i in sep if i not in choice)\n",
    "        news.append(new)\n",
    "elif len(sep) <= ak <= len(sep)+len(whatever): # 展开适中，不增加开销\n",
    "    choice = sep + whatever[:ak-len(sep)]\n",
    "    news = [tree.new_tree_by_positions(choice)]\n",
    "else: # 展开多，取 not_sep 子集，增加选取部分开销\n",
    "    for choice in choose(not_sep,ak-len(sep)-len(whatever)):\n",
    "        new = tree.new_tree_by_positions(sep+whatever+choice)\n",
    "        new.cost += sum(leaf_cost[i] for i in choice)\n",
    "        news.append(new)\n",
    "# 处理新树\n",
    "if nonleaves[k+1]==0: # 树已完全展开\n",
    "    for new in news:\n",
    "        if new.cost < min_cost:\n",
    "            min_cost = new.cost\n",
    "            optimal = new\n",
    "            tmp_trees = [tree for tree in tmp_trees if tree.cost<= min_cost]\n",
    "else: # 还有非叶节点\n",
    "    tmp_trees.extend(news) # 加入新结果\n",
    "    tmp_trees.sort(key=lambda x:x.cost-x.depth) # 排序"
   ]
  },
  {
   "cell_type": "markdown",
   "metadata": {
    "heading_collapsed": true
   },
   "source": [
    "### 测试"
   ]
  },
  {
   "cell_type": "code",
   "execution_count": 67,
   "metadata": {
    "code_folding": [
     2,
     10
    ],
    "hidden": true
   },
   "outputs": [],
   "source": [
    "n = 8\n",
    "positions = [None for i in range(2**n)] # 旧树\n",
    "pos = [1, \n",
    "       2,3, \n",
    "       4,5, \n",
    "       8,9,10,11, \n",
    "       16,17,18,19,22,23,\n",
    "       32,33,44,45,\n",
    "       88,89,90,91,\n",
    "       176,177]\n",
    "value = [0,\n",
    "        0,0,\n",
    "        0,0,\n",
    "        0,0,0,0,\n",
    "        0,35,40,0,0,0,\n",
    "        10,20,0,0,\n",
    "        0,50,20,10,\n",
    "        10,5]\n",
    "for p,v in zip(pos,value):\n",
    "    positions[p-1] = v\n",
    "old = BTree.list_to_tree(positions)\n",
    "nonleaf_cost,leaf_cost = get_nodes_cost(old) # 节点开销信息\n",
    "leaves = [0,0,2,0,3,2,3,26]\n",
    "nonleaves = leaves_to_nonleaves(leaves)\n",
    "root = BTree(0)\n",
    "root.cost = 0 # 初始开销\n",
    "min_cost = sum(leaf_cost.values()) # 最小开销\n",
    "optimal = None # 最优解\n",
    "tmp_trees = [root] # 待遍历集合\n",
    "while len(tmp_trees):\n",
    "    tree = tmp_trees[0] # 取最小开销树\n",
    "    tmp_trees = tmp_trees[1:]\n",
    "    k = tree.max_depth # 总层数\n",
    "    ak = nonleaves[k] # 要展开的节点数（不能为0）\n",
    "    assert ak,\"展开数不能为0\"\n",
    "    # 三种类型节点\n",
    "    sep,not_sep,whatever = [],[],[]\n",
    "    for node in tree.last_layer:\n",
    "        if node.position in nonleaf_cost:\n",
    "            sep.append(node.position)\n",
    "        elif node.position in leaf_cost:\n",
    "            not_sep.append(node.position)\n",
    "        else:\n",
    "            whatever.append(node.position)\n",
    "    # 产生新树\n",
    "    news = []\n",
    "    if ak < len(sep): # 展开少，取 sep 子集，增加未取部分开销\n",
    "        for choice in choose(sep,ak):\n",
    "            new = tree.new_tree_by_positions(choice)\n",
    "            new.cost += sum(nonleaf_cost[i] for i in sep if i not in choice)\n",
    "            news.append(new)\n",
    "    elif len(sep) <= ak <= len(sep)+len(whatever): # 展开适中，不增加开销\n",
    "        choice = sep + whatever[:ak-len(sep)]\n",
    "        news = [tree.new_tree_by_positions(choice)]\n",
    "    else: # 展开多，取 not_sep 子集，增加选取部分开销\n",
    "        for choice in choose(not_sep,ak-len(sep)-len(whatever)):\n",
    "            new = tree.new_tree_by_positions(sep+whatever+choice)\n",
    "            new.cost += sum(leaf_cost[i] for i in choice)\n",
    "            news.append(new)\n",
    "    # 处理新树\n",
    "    if nonleaves[k+1]==0: # 树已完全展开\n",
    "        for new in news:\n",
    "            if new.cost < min_cost:\n",
    "                min_cost = new.cost\n",
    "                optimal = new\n",
    "                tmp_trees = [tree for tree in tmp_trees if tree.cost<= min_cost]\n",
    "    else: # 树不完整\n",
    "        tmp_trees.extend(news) # 加入新结果\n",
    "        tmp_trees.sort(key=lambda x:x.cost-x.depth) # 排序"
   ]
  },
  {
   "cell_type": "markdown",
   "metadata": {},
   "source": [
    "### 函数"
   ]
  },
  {
   "cell_type": "code",
   "execution_count": null,
   "metadata": {},
   "outputs": [],
   "source": [
    "from btree import *"
   ]
  },
  {
   "cell_type": "code",
   "execution_count": null,
   "metadata": {},
   "outputs": [],
   "source": [
    "class BTree(BTree):\n",
    "    def new_tree_by_positions(self,positions):\n",
    "        \"\"\"最后一层按位置展开 -> 新树\"\"\"\n",
    "        tree = deepcopy(self) # 复制对象\n",
    "        for node in tree.last_layer: # 最后一层\n",
    "            if node.position in positions:\n",
    "                self.add_left_right_to_node(node) # 展开\n",
    "        tree._max_depth += 1 # 总深度+1\n",
    "        return tree"
   ]
  },
  {
   "cell_type": "code",
   "execution_count": null,
   "metadata": {
    "code_folding": [
     5
    ]
   },
   "outputs": [],
   "source": [
    "def get_nodes_cost(tree) -> (dict,dict):\n",
    "    \"\"\"获取节点的开销信息，只记录非0节点\"\"\"\n",
    "    nonleaf_cost = {} # 非叶开销\n",
    "    leaf_cost = {} # 叶节点开销\n",
    "    for node in tree:\n",
    "        if node.left is None: # 叶节点\n",
    "            if node.value: \n",
    "                leaf_cost[node.position] = node.value\n",
    "        else: # 非叶节点\n",
    "            v = sum(leaf.value for leaf in node.leaves)\n",
    "            if v: nonleaf_cost[node.position] = v\n",
    "    return nonleaf_cost,leaf_cost"
   ]
  },
  {
   "cell_type": "code",
   "execution_count": 71,
   "metadata": {
    "code_folding": [
     2,
     10
    ]
   },
   "outputs": [],
   "source": [
    "n = 8\n",
    "positions = [None for i in range(2**n)] # 旧树\n",
    "pos = [1, \n",
    "       2,3, \n",
    "       4,5, \n",
    "       8,9,10,11, \n",
    "       16,17,18,19,22,23,\n",
    "       32,33,44,45,\n",
    "       88,89,90,91,\n",
    "       176,177]\n",
    "value = [0,\n",
    "        0,0,\n",
    "        0,0,\n",
    "        0,0,0,0,\n",
    "        0,35,40,0,0,0,\n",
    "        10,20,0,0,\n",
    "        0,50,20,10,\n",
    "        10,5]\n",
    "for p,v in zip(pos,value):\n",
    "    positions[p-1] = v\n",
    "leaves = [0,0,2,0,3,2,3,26]\n",
    "\n",
    "def main(positions,leaves):\n",
    "    old = BTree.list_to_tree(positions)\n",
    "    nonleaf_cost,leaf_cost = get_nodes_cost(old) # 节点开销信息\n",
    "    nonleaves = leaves_to_nonleaves(leaves)\n",
    "    root = BTree(0)\n",
    "    root.cost = 0 # 初始开销\n",
    "    min_cost = sum(leaf_cost.values()) # 最小开销\n",
    "    optimal = None # 最优解\n",
    "    tmp_trees = [root] # 待遍历集合\n",
    "    while len(tmp_trees):\n",
    "        tree = tmp_trees[0] # 取最小开销树\n",
    "        tmp_trees = tmp_trees[1:]\n",
    "        k = tree.max_depth # 总层数\n",
    "        ak = nonleaves[k] # 要展开的节点数（不能为0）\n",
    "        assert ak,\"展开数不能为0\"\n",
    "        # 三类节点\n",
    "        sep,not_sep,whatever = [],[],[]\n",
    "        for node in tree.last_layer:\n",
    "            if node.position in nonleaf_cost:\n",
    "                sep.append(node.position)\n",
    "            elif node.position in leaf_cost:\n",
    "                not_sep.append(node.position)\n",
    "            else:\n",
    "                whatever.append(node.position)\n",
    "        # 产生新树\n",
    "        news = []\n",
    "        if ak < len(sep): # 展开少，取 sep 子集，增加未取部分开销\n",
    "            for choice in choose(sep,ak):\n",
    "                new = tree.new_tree_by_positions(choice)\n",
    "                new.cost += sum(nonleaf_cost[i] for i in sep if i not in choice)\n",
    "                news.append(new)\n",
    "        elif len(sep) <= ak <= len(sep)+len(whatever): # 展开适中，不增加开销\n",
    "            choice = sep + whatever[:ak-len(sep)]\n",
    "            news = [tree.new_tree_by_positions(choice)]\n",
    "        else: # 展开多，取 not_sep 子集，增加选取部分开销\n",
    "            for choice in choose(not_sep,ak-len(sep)-len(whatever)):\n",
    "                new = tree.new_tree_by_positions(sep+whatever+choice)\n",
    "                new.cost += sum(leaf_cost[i] for i in choice)\n",
    "                news.append(new)\n",
    "        # 处理新树\n",
    "        if nonleaves[k+1]==0: # 树已完全展开\n",
    "            for new in news:\n",
    "                if new.cost < min_cost:\n",
    "                    min_cost = new.cost\n",
    "                    optimal = new\n",
    "                    tmp_trees = [tree for tree in tmp_trees if tree.cost<= min_cost]\n",
    "        else: # 树不完整\n",
    "            tmp_trees.extend(news) # 加入新结果\n",
    "            tmp_trees.sort(key=lambda x:x.cost-x.depth) # 排序\n",
    "    return optimal,min_cost"
   ]
  }
 ],
 "metadata": {
  "kernelspec": {
   "display_name": "Python 3",
   "language": "python",
   "name": "python3"
  },
  "language_info": {
   "codemirror_mode": {
    "name": "ipython",
    "version": 3
   },
   "file_extension": ".py",
   "mimetype": "text/x-python",
   "name": "python",
   "nbconvert_exporter": "python",
   "pygments_lexer": "ipython3",
   "version": "3.8.10"
  }
 },
 "nbformat": 4,
 "nbformat_minor": 4
}
